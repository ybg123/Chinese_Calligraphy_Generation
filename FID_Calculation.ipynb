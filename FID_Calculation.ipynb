{
  "nbformat": 4,
  "nbformat_minor": 0,
  "metadata": {
    "colab": {
      "provenance": [],
      "machine_shape": "hm"
    },
    "kernelspec": {
      "name": "python3",
      "display_name": "Python 3"
    },
    "language_info": {
      "name": "python"
    },
    "accelerator": "GPU",
    "gpuClass": "standard",
    "widgets": {
      "application/vnd.jupyter.widget-state+json": {
        "dfb76bbedbcc42ae9725b0e2eff950c2": {
          "model_module": "@jupyter-widgets/controls",
          "model_name": "HBoxModel",
          "model_module_version": "1.5.0",
          "state": {
            "_dom_classes": [],
            "_model_module": "@jupyter-widgets/controls",
            "_model_module_version": "1.5.0",
            "_model_name": "HBoxModel",
            "_view_count": null,
            "_view_module": "@jupyter-widgets/controls",
            "_view_module_version": "1.5.0",
            "_view_name": "HBoxView",
            "box_style": "",
            "children": [
              "IPY_MODEL_1f8f0c94ce8f4c63ba84be8f6f4d7e6a",
              "IPY_MODEL_f34a52e641fe44fb9465c90ee712d03c",
              "IPY_MODEL_5445499dbdb54cf3ba8939330b22ba58"
            ],
            "layout": "IPY_MODEL_586b6f87ed5341df8e0c4508dbddb526"
          }
        },
        "1f8f0c94ce8f4c63ba84be8f6f4d7e6a": {
          "model_module": "@jupyter-widgets/controls",
          "model_name": "HTMLModel",
          "model_module_version": "1.5.0",
          "state": {
            "_dom_classes": [],
            "_model_module": "@jupyter-widgets/controls",
            "_model_module_version": "1.5.0",
            "_model_name": "HTMLModel",
            "_view_count": null,
            "_view_module": "@jupyter-widgets/controls",
            "_view_module_version": "1.5.0",
            "_view_name": "HTMLView",
            "description": "",
            "description_tooltip": null,
            "layout": "IPY_MODEL_ab28498c483641e7b73a49d542a692fa",
            "placeholder": "​",
            "style": "IPY_MODEL_a5340c2d90ea4135bec81d04c61bf2df",
            "value": "100%"
          }
        },
        "f34a52e641fe44fb9465c90ee712d03c": {
          "model_module": "@jupyter-widgets/controls",
          "model_name": "FloatProgressModel",
          "model_module_version": "1.5.0",
          "state": {
            "_dom_classes": [],
            "_model_module": "@jupyter-widgets/controls",
            "_model_module_version": "1.5.0",
            "_model_name": "FloatProgressModel",
            "_view_count": null,
            "_view_module": "@jupyter-widgets/controls",
            "_view_module_version": "1.5.0",
            "_view_name": "ProgressView",
            "bar_style": "success",
            "description": "",
            "description_tooltip": null,
            "layout": "IPY_MODEL_b861ce2192a647c8a69d20102ecd1541",
            "max": 5410,
            "min": 0,
            "orientation": "horizontal",
            "style": "IPY_MODEL_c921c39dca114abfbd555355d6198a27",
            "value": 5410
          }
        },
        "5445499dbdb54cf3ba8939330b22ba58": {
          "model_module": "@jupyter-widgets/controls",
          "model_name": "HTMLModel",
          "model_module_version": "1.5.0",
          "state": {
            "_dom_classes": [],
            "_model_module": "@jupyter-widgets/controls",
            "_model_module_version": "1.5.0",
            "_model_name": "HTMLModel",
            "_view_count": null,
            "_view_module": "@jupyter-widgets/controls",
            "_view_module_version": "1.5.0",
            "_view_name": "HTMLView",
            "description": "",
            "description_tooltip": null,
            "layout": "IPY_MODEL_e416f896dc4f4b2bbc79b8366d362cd5",
            "placeholder": "​",
            "style": "IPY_MODEL_1d817db8ddbd4197b5ebd1d0d4650688",
            "value": " 5410/5410 [00:00&lt;00:00, 11946.00it/s]"
          }
        },
        "586b6f87ed5341df8e0c4508dbddb526": {
          "model_module": "@jupyter-widgets/base",
          "model_name": "LayoutModel",
          "model_module_version": "1.2.0",
          "state": {
            "_model_module": "@jupyter-widgets/base",
            "_model_module_version": "1.2.0",
            "_model_name": "LayoutModel",
            "_view_count": null,
            "_view_module": "@jupyter-widgets/base",
            "_view_module_version": "1.2.0",
            "_view_name": "LayoutView",
            "align_content": null,
            "align_items": null,
            "align_self": null,
            "border": null,
            "bottom": null,
            "display": null,
            "flex": null,
            "flex_flow": null,
            "grid_area": null,
            "grid_auto_columns": null,
            "grid_auto_flow": null,
            "grid_auto_rows": null,
            "grid_column": null,
            "grid_gap": null,
            "grid_row": null,
            "grid_template_areas": null,
            "grid_template_columns": null,
            "grid_template_rows": null,
            "height": null,
            "justify_content": null,
            "justify_items": null,
            "left": null,
            "margin": null,
            "max_height": null,
            "max_width": null,
            "min_height": null,
            "min_width": null,
            "object_fit": null,
            "object_position": null,
            "order": null,
            "overflow": null,
            "overflow_x": null,
            "overflow_y": null,
            "padding": null,
            "right": null,
            "top": null,
            "visibility": null,
            "width": null
          }
        },
        "ab28498c483641e7b73a49d542a692fa": {
          "model_module": "@jupyter-widgets/base",
          "model_name": "LayoutModel",
          "model_module_version": "1.2.0",
          "state": {
            "_model_module": "@jupyter-widgets/base",
            "_model_module_version": "1.2.0",
            "_model_name": "LayoutModel",
            "_view_count": null,
            "_view_module": "@jupyter-widgets/base",
            "_view_module_version": "1.2.0",
            "_view_name": "LayoutView",
            "align_content": null,
            "align_items": null,
            "align_self": null,
            "border": null,
            "bottom": null,
            "display": null,
            "flex": null,
            "flex_flow": null,
            "grid_area": null,
            "grid_auto_columns": null,
            "grid_auto_flow": null,
            "grid_auto_rows": null,
            "grid_column": null,
            "grid_gap": null,
            "grid_row": null,
            "grid_template_areas": null,
            "grid_template_columns": null,
            "grid_template_rows": null,
            "height": null,
            "justify_content": null,
            "justify_items": null,
            "left": null,
            "margin": null,
            "max_height": null,
            "max_width": null,
            "min_height": null,
            "min_width": null,
            "object_fit": null,
            "object_position": null,
            "order": null,
            "overflow": null,
            "overflow_x": null,
            "overflow_y": null,
            "padding": null,
            "right": null,
            "top": null,
            "visibility": null,
            "width": null
          }
        },
        "a5340c2d90ea4135bec81d04c61bf2df": {
          "model_module": "@jupyter-widgets/controls",
          "model_name": "DescriptionStyleModel",
          "model_module_version": "1.5.0",
          "state": {
            "_model_module": "@jupyter-widgets/controls",
            "_model_module_version": "1.5.0",
            "_model_name": "DescriptionStyleModel",
            "_view_count": null,
            "_view_module": "@jupyter-widgets/base",
            "_view_module_version": "1.2.0",
            "_view_name": "StyleView",
            "description_width": ""
          }
        },
        "b861ce2192a647c8a69d20102ecd1541": {
          "model_module": "@jupyter-widgets/base",
          "model_name": "LayoutModel",
          "model_module_version": "1.2.0",
          "state": {
            "_model_module": "@jupyter-widgets/base",
            "_model_module_version": "1.2.0",
            "_model_name": "LayoutModel",
            "_view_count": null,
            "_view_module": "@jupyter-widgets/base",
            "_view_module_version": "1.2.0",
            "_view_name": "LayoutView",
            "align_content": null,
            "align_items": null,
            "align_self": null,
            "border": null,
            "bottom": null,
            "display": null,
            "flex": null,
            "flex_flow": null,
            "grid_area": null,
            "grid_auto_columns": null,
            "grid_auto_flow": null,
            "grid_auto_rows": null,
            "grid_column": null,
            "grid_gap": null,
            "grid_row": null,
            "grid_template_areas": null,
            "grid_template_columns": null,
            "grid_template_rows": null,
            "height": null,
            "justify_content": null,
            "justify_items": null,
            "left": null,
            "margin": null,
            "max_height": null,
            "max_width": null,
            "min_height": null,
            "min_width": null,
            "object_fit": null,
            "object_position": null,
            "order": null,
            "overflow": null,
            "overflow_x": null,
            "overflow_y": null,
            "padding": null,
            "right": null,
            "top": null,
            "visibility": null,
            "width": null
          }
        },
        "c921c39dca114abfbd555355d6198a27": {
          "model_module": "@jupyter-widgets/controls",
          "model_name": "ProgressStyleModel",
          "model_module_version": "1.5.0",
          "state": {
            "_model_module": "@jupyter-widgets/controls",
            "_model_module_version": "1.5.0",
            "_model_name": "ProgressStyleModel",
            "_view_count": null,
            "_view_module": "@jupyter-widgets/base",
            "_view_module_version": "1.2.0",
            "_view_name": "StyleView",
            "bar_color": null,
            "description_width": ""
          }
        },
        "e416f896dc4f4b2bbc79b8366d362cd5": {
          "model_module": "@jupyter-widgets/base",
          "model_name": "LayoutModel",
          "model_module_version": "1.2.0",
          "state": {
            "_model_module": "@jupyter-widgets/base",
            "_model_module_version": "1.2.0",
            "_model_name": "LayoutModel",
            "_view_count": null,
            "_view_module": "@jupyter-widgets/base",
            "_view_module_version": "1.2.0",
            "_view_name": "LayoutView",
            "align_content": null,
            "align_items": null,
            "align_self": null,
            "border": null,
            "bottom": null,
            "display": null,
            "flex": null,
            "flex_flow": null,
            "grid_area": null,
            "grid_auto_columns": null,
            "grid_auto_flow": null,
            "grid_auto_rows": null,
            "grid_column": null,
            "grid_gap": null,
            "grid_row": null,
            "grid_template_areas": null,
            "grid_template_columns": null,
            "grid_template_rows": null,
            "height": null,
            "justify_content": null,
            "justify_items": null,
            "left": null,
            "margin": null,
            "max_height": null,
            "max_width": null,
            "min_height": null,
            "min_width": null,
            "object_fit": null,
            "object_position": null,
            "order": null,
            "overflow": null,
            "overflow_x": null,
            "overflow_y": null,
            "padding": null,
            "right": null,
            "top": null,
            "visibility": null,
            "width": null
          }
        },
        "1d817db8ddbd4197b5ebd1d0d4650688": {
          "model_module": "@jupyter-widgets/controls",
          "model_name": "DescriptionStyleModel",
          "model_module_version": "1.5.0",
          "state": {
            "_model_module": "@jupyter-widgets/controls",
            "_model_module_version": "1.5.0",
            "_model_name": "DescriptionStyleModel",
            "_view_count": null,
            "_view_module": "@jupyter-widgets/base",
            "_view_module_version": "1.2.0",
            "_view_name": "StyleView",
            "description_width": ""
          }
        },
        "d43051997ce5456cb654025c31db8d0e": {
          "model_module": "@jupyter-widgets/controls",
          "model_name": "HBoxModel",
          "model_module_version": "1.5.0",
          "state": {
            "_dom_classes": [],
            "_model_module": "@jupyter-widgets/controls",
            "_model_module_version": "1.5.0",
            "_model_name": "HBoxModel",
            "_view_count": null,
            "_view_module": "@jupyter-widgets/controls",
            "_view_module_version": "1.5.0",
            "_view_name": "HBoxView",
            "box_style": "",
            "children": [
              "IPY_MODEL_547c741e62894b9e820e5a6aec8e8369",
              "IPY_MODEL_7e483a0eeda142fc8aa6132fdb7a462d",
              "IPY_MODEL_e33ca26a179b49cebed15b70f89ea8c5"
            ],
            "layout": "IPY_MODEL_a8f7f2dba7e64b46997329b155c4190c"
          }
        },
        "547c741e62894b9e820e5a6aec8e8369": {
          "model_module": "@jupyter-widgets/controls",
          "model_name": "HTMLModel",
          "model_module_version": "1.5.0",
          "state": {
            "_dom_classes": [],
            "_model_module": "@jupyter-widgets/controls",
            "_model_module_version": "1.5.0",
            "_model_name": "HTMLModel",
            "_view_count": null,
            "_view_module": "@jupyter-widgets/controls",
            "_view_module_version": "1.5.0",
            "_view_name": "HTMLView",
            "description": "",
            "description_tooltip": null,
            "layout": "IPY_MODEL_999c02522f4646e9ac1ab08ab0020f9a",
            "placeholder": "​",
            "style": "IPY_MODEL_64014ddeb8034386a22a83796e3c748a",
            "value": "100%"
          }
        },
        "7e483a0eeda142fc8aa6132fdb7a462d": {
          "model_module": "@jupyter-widgets/controls",
          "model_name": "FloatProgressModel",
          "model_module_version": "1.5.0",
          "state": {
            "_dom_classes": [],
            "_model_module": "@jupyter-widgets/controls",
            "_model_module_version": "1.5.0",
            "_model_name": "FloatProgressModel",
            "_view_count": null,
            "_view_module": "@jupyter-widgets/controls",
            "_view_module_version": "1.5.0",
            "_view_name": "ProgressView",
            "bar_style": "success",
            "description": "",
            "description_tooltip": null,
            "layout": "IPY_MODEL_6738a2fd8fd040a786fbdc66e08ab956",
            "max": 1353,
            "min": 0,
            "orientation": "horizontal",
            "style": "IPY_MODEL_a8eade92dfb343638cd38fded76bd963",
            "value": 1353
          }
        },
        "e33ca26a179b49cebed15b70f89ea8c5": {
          "model_module": "@jupyter-widgets/controls",
          "model_name": "HTMLModel",
          "model_module_version": "1.5.0",
          "state": {
            "_dom_classes": [],
            "_model_module": "@jupyter-widgets/controls",
            "_model_module_version": "1.5.0",
            "_model_name": "HTMLModel",
            "_view_count": null,
            "_view_module": "@jupyter-widgets/controls",
            "_view_module_version": "1.5.0",
            "_view_name": "HTMLView",
            "description": "",
            "description_tooltip": null,
            "layout": "IPY_MODEL_7e40931a95f54d81b99e202c011d8d88",
            "placeholder": "​",
            "style": "IPY_MODEL_3800e0ffc1d848ccb658de11b896298a",
            "value": " 1353/1353 [00:00&lt;00:00, 9916.13it/s]"
          }
        },
        "a8f7f2dba7e64b46997329b155c4190c": {
          "model_module": "@jupyter-widgets/base",
          "model_name": "LayoutModel",
          "model_module_version": "1.2.0",
          "state": {
            "_model_module": "@jupyter-widgets/base",
            "_model_module_version": "1.2.0",
            "_model_name": "LayoutModel",
            "_view_count": null,
            "_view_module": "@jupyter-widgets/base",
            "_view_module_version": "1.2.0",
            "_view_name": "LayoutView",
            "align_content": null,
            "align_items": null,
            "align_self": null,
            "border": null,
            "bottom": null,
            "display": null,
            "flex": null,
            "flex_flow": null,
            "grid_area": null,
            "grid_auto_columns": null,
            "grid_auto_flow": null,
            "grid_auto_rows": null,
            "grid_column": null,
            "grid_gap": null,
            "grid_row": null,
            "grid_template_areas": null,
            "grid_template_columns": null,
            "grid_template_rows": null,
            "height": null,
            "justify_content": null,
            "justify_items": null,
            "left": null,
            "margin": null,
            "max_height": null,
            "max_width": null,
            "min_height": null,
            "min_width": null,
            "object_fit": null,
            "object_position": null,
            "order": null,
            "overflow": null,
            "overflow_x": null,
            "overflow_y": null,
            "padding": null,
            "right": null,
            "top": null,
            "visibility": null,
            "width": null
          }
        },
        "999c02522f4646e9ac1ab08ab0020f9a": {
          "model_module": "@jupyter-widgets/base",
          "model_name": "LayoutModel",
          "model_module_version": "1.2.0",
          "state": {
            "_model_module": "@jupyter-widgets/base",
            "_model_module_version": "1.2.0",
            "_model_name": "LayoutModel",
            "_view_count": null,
            "_view_module": "@jupyter-widgets/base",
            "_view_module_version": "1.2.0",
            "_view_name": "LayoutView",
            "align_content": null,
            "align_items": null,
            "align_self": null,
            "border": null,
            "bottom": null,
            "display": null,
            "flex": null,
            "flex_flow": null,
            "grid_area": null,
            "grid_auto_columns": null,
            "grid_auto_flow": null,
            "grid_auto_rows": null,
            "grid_column": null,
            "grid_gap": null,
            "grid_row": null,
            "grid_template_areas": null,
            "grid_template_columns": null,
            "grid_template_rows": null,
            "height": null,
            "justify_content": null,
            "justify_items": null,
            "left": null,
            "margin": null,
            "max_height": null,
            "max_width": null,
            "min_height": null,
            "min_width": null,
            "object_fit": null,
            "object_position": null,
            "order": null,
            "overflow": null,
            "overflow_x": null,
            "overflow_y": null,
            "padding": null,
            "right": null,
            "top": null,
            "visibility": null,
            "width": null
          }
        },
        "64014ddeb8034386a22a83796e3c748a": {
          "model_module": "@jupyter-widgets/controls",
          "model_name": "DescriptionStyleModel",
          "model_module_version": "1.5.0",
          "state": {
            "_model_module": "@jupyter-widgets/controls",
            "_model_module_version": "1.5.0",
            "_model_name": "DescriptionStyleModel",
            "_view_count": null,
            "_view_module": "@jupyter-widgets/base",
            "_view_module_version": "1.2.0",
            "_view_name": "StyleView",
            "description_width": ""
          }
        },
        "6738a2fd8fd040a786fbdc66e08ab956": {
          "model_module": "@jupyter-widgets/base",
          "model_name": "LayoutModel",
          "model_module_version": "1.2.0",
          "state": {
            "_model_module": "@jupyter-widgets/base",
            "_model_module_version": "1.2.0",
            "_model_name": "LayoutModel",
            "_view_count": null,
            "_view_module": "@jupyter-widgets/base",
            "_view_module_version": "1.2.0",
            "_view_name": "LayoutView",
            "align_content": null,
            "align_items": null,
            "align_self": null,
            "border": null,
            "bottom": null,
            "display": null,
            "flex": null,
            "flex_flow": null,
            "grid_area": null,
            "grid_auto_columns": null,
            "grid_auto_flow": null,
            "grid_auto_rows": null,
            "grid_column": null,
            "grid_gap": null,
            "grid_row": null,
            "grid_template_areas": null,
            "grid_template_columns": null,
            "grid_template_rows": null,
            "height": null,
            "justify_content": null,
            "justify_items": null,
            "left": null,
            "margin": null,
            "max_height": null,
            "max_width": null,
            "min_height": null,
            "min_width": null,
            "object_fit": null,
            "object_position": null,
            "order": null,
            "overflow": null,
            "overflow_x": null,
            "overflow_y": null,
            "padding": null,
            "right": null,
            "top": null,
            "visibility": null,
            "width": null
          }
        },
        "a8eade92dfb343638cd38fded76bd963": {
          "model_module": "@jupyter-widgets/controls",
          "model_name": "ProgressStyleModel",
          "model_module_version": "1.5.0",
          "state": {
            "_model_module": "@jupyter-widgets/controls",
            "_model_module_version": "1.5.0",
            "_model_name": "ProgressStyleModel",
            "_view_count": null,
            "_view_module": "@jupyter-widgets/base",
            "_view_module_version": "1.2.0",
            "_view_name": "StyleView",
            "bar_color": null,
            "description_width": ""
          }
        },
        "7e40931a95f54d81b99e202c011d8d88": {
          "model_module": "@jupyter-widgets/base",
          "model_name": "LayoutModel",
          "model_module_version": "1.2.0",
          "state": {
            "_model_module": "@jupyter-widgets/base",
            "_model_module_version": "1.2.0",
            "_model_name": "LayoutModel",
            "_view_count": null,
            "_view_module": "@jupyter-widgets/base",
            "_view_module_version": "1.2.0",
            "_view_name": "LayoutView",
            "align_content": null,
            "align_items": null,
            "align_self": null,
            "border": null,
            "bottom": null,
            "display": null,
            "flex": null,
            "flex_flow": null,
            "grid_area": null,
            "grid_auto_columns": null,
            "grid_auto_flow": null,
            "grid_auto_rows": null,
            "grid_column": null,
            "grid_gap": null,
            "grid_row": null,
            "grid_template_areas": null,
            "grid_template_columns": null,
            "grid_template_rows": null,
            "height": null,
            "justify_content": null,
            "justify_items": null,
            "left": null,
            "margin": null,
            "max_height": null,
            "max_width": null,
            "min_height": null,
            "min_width": null,
            "object_fit": null,
            "object_position": null,
            "order": null,
            "overflow": null,
            "overflow_x": null,
            "overflow_y": null,
            "padding": null,
            "right": null,
            "top": null,
            "visibility": null,
            "width": null
          }
        },
        "3800e0ffc1d848ccb658de11b896298a": {
          "model_module": "@jupyter-widgets/controls",
          "model_name": "DescriptionStyleModel",
          "model_module_version": "1.5.0",
          "state": {
            "_model_module": "@jupyter-widgets/controls",
            "_model_module_version": "1.5.0",
            "_model_name": "DescriptionStyleModel",
            "_view_count": null,
            "_view_module": "@jupyter-widgets/base",
            "_view_module_version": "1.2.0",
            "_view_name": "StyleView",
            "description_width": ""
          }
        },
        "a8046edeaebf4ff9b22a1d4198cbd666": {
          "model_module": "@jupyter-widgets/controls",
          "model_name": "HBoxModel",
          "model_module_version": "1.5.0",
          "state": {
            "_dom_classes": [],
            "_model_module": "@jupyter-widgets/controls",
            "_model_module_version": "1.5.0",
            "_model_name": "HBoxModel",
            "_view_count": null,
            "_view_module": "@jupyter-widgets/controls",
            "_view_module_version": "1.5.0",
            "_view_name": "HBoxView",
            "box_style": "",
            "children": [
              "IPY_MODEL_039647d6f08b4f238ae249d77147030a",
              "IPY_MODEL_e629763406e44464b754ef704afc1670",
              "IPY_MODEL_4ee530b2825b42b78755234312bfd808"
            ],
            "layout": "IPY_MODEL_fcadca6741a24e8c8e8ea1f441e720ff"
          }
        },
        "039647d6f08b4f238ae249d77147030a": {
          "model_module": "@jupyter-widgets/controls",
          "model_name": "HTMLModel",
          "model_module_version": "1.5.0",
          "state": {
            "_dom_classes": [],
            "_model_module": "@jupyter-widgets/controls",
            "_model_module_version": "1.5.0",
            "_model_name": "HTMLModel",
            "_view_count": null,
            "_view_module": "@jupyter-widgets/controls",
            "_view_module_version": "1.5.0",
            "_view_name": "HTMLView",
            "description": "",
            "description_tooltip": null,
            "layout": "IPY_MODEL_a54b01aa57754f088de563d84aa8960f",
            "placeholder": "​",
            "style": "IPY_MODEL_595410e452a547a098a2f8e92e11c16f",
            "value": "100%"
          }
        },
        "e629763406e44464b754ef704afc1670": {
          "model_module": "@jupyter-widgets/controls",
          "model_name": "FloatProgressModel",
          "model_module_version": "1.5.0",
          "state": {
            "_dom_classes": [],
            "_model_module": "@jupyter-widgets/controls",
            "_model_module_version": "1.5.0",
            "_model_name": "FloatProgressModel",
            "_view_count": null,
            "_view_module": "@jupyter-widgets/controls",
            "_view_module_version": "1.5.0",
            "_view_name": "ProgressView",
            "bar_style": "success",
            "description": "",
            "description_tooltip": null,
            "layout": "IPY_MODEL_49bc822b5a204faaae4cb5dc18ba85e7",
            "max": 5410,
            "min": 0,
            "orientation": "horizontal",
            "style": "IPY_MODEL_2c8f17fdeb304b878296b85497be1b95",
            "value": 5410
          }
        },
        "4ee530b2825b42b78755234312bfd808": {
          "model_module": "@jupyter-widgets/controls",
          "model_name": "HTMLModel",
          "model_module_version": "1.5.0",
          "state": {
            "_dom_classes": [],
            "_model_module": "@jupyter-widgets/controls",
            "_model_module_version": "1.5.0",
            "_model_name": "HTMLModel",
            "_view_count": null,
            "_view_module": "@jupyter-widgets/controls",
            "_view_module_version": "1.5.0",
            "_view_name": "HTMLView",
            "description": "",
            "description_tooltip": null,
            "layout": "IPY_MODEL_92ebc2a3a87b4b3aadf76ed1d784ca42",
            "placeholder": "​",
            "style": "IPY_MODEL_8e301f6f296c44cfbf82ec89ea2047a8",
            "value": " 5410/5410 [00:00&lt;00:00, 11844.17it/s]"
          }
        },
        "fcadca6741a24e8c8e8ea1f441e720ff": {
          "model_module": "@jupyter-widgets/base",
          "model_name": "LayoutModel",
          "model_module_version": "1.2.0",
          "state": {
            "_model_module": "@jupyter-widgets/base",
            "_model_module_version": "1.2.0",
            "_model_name": "LayoutModel",
            "_view_count": null,
            "_view_module": "@jupyter-widgets/base",
            "_view_module_version": "1.2.0",
            "_view_name": "LayoutView",
            "align_content": null,
            "align_items": null,
            "align_self": null,
            "border": null,
            "bottom": null,
            "display": null,
            "flex": null,
            "flex_flow": null,
            "grid_area": null,
            "grid_auto_columns": null,
            "grid_auto_flow": null,
            "grid_auto_rows": null,
            "grid_column": null,
            "grid_gap": null,
            "grid_row": null,
            "grid_template_areas": null,
            "grid_template_columns": null,
            "grid_template_rows": null,
            "height": null,
            "justify_content": null,
            "justify_items": null,
            "left": null,
            "margin": null,
            "max_height": null,
            "max_width": null,
            "min_height": null,
            "min_width": null,
            "object_fit": null,
            "object_position": null,
            "order": null,
            "overflow": null,
            "overflow_x": null,
            "overflow_y": null,
            "padding": null,
            "right": null,
            "top": null,
            "visibility": null,
            "width": null
          }
        },
        "a54b01aa57754f088de563d84aa8960f": {
          "model_module": "@jupyter-widgets/base",
          "model_name": "LayoutModel",
          "model_module_version": "1.2.0",
          "state": {
            "_model_module": "@jupyter-widgets/base",
            "_model_module_version": "1.2.0",
            "_model_name": "LayoutModel",
            "_view_count": null,
            "_view_module": "@jupyter-widgets/base",
            "_view_module_version": "1.2.0",
            "_view_name": "LayoutView",
            "align_content": null,
            "align_items": null,
            "align_self": null,
            "border": null,
            "bottom": null,
            "display": null,
            "flex": null,
            "flex_flow": null,
            "grid_area": null,
            "grid_auto_columns": null,
            "grid_auto_flow": null,
            "grid_auto_rows": null,
            "grid_column": null,
            "grid_gap": null,
            "grid_row": null,
            "grid_template_areas": null,
            "grid_template_columns": null,
            "grid_template_rows": null,
            "height": null,
            "justify_content": null,
            "justify_items": null,
            "left": null,
            "margin": null,
            "max_height": null,
            "max_width": null,
            "min_height": null,
            "min_width": null,
            "object_fit": null,
            "object_position": null,
            "order": null,
            "overflow": null,
            "overflow_x": null,
            "overflow_y": null,
            "padding": null,
            "right": null,
            "top": null,
            "visibility": null,
            "width": null
          }
        },
        "595410e452a547a098a2f8e92e11c16f": {
          "model_module": "@jupyter-widgets/controls",
          "model_name": "DescriptionStyleModel",
          "model_module_version": "1.5.0",
          "state": {
            "_model_module": "@jupyter-widgets/controls",
            "_model_module_version": "1.5.0",
            "_model_name": "DescriptionStyleModel",
            "_view_count": null,
            "_view_module": "@jupyter-widgets/base",
            "_view_module_version": "1.2.0",
            "_view_name": "StyleView",
            "description_width": ""
          }
        },
        "49bc822b5a204faaae4cb5dc18ba85e7": {
          "model_module": "@jupyter-widgets/base",
          "model_name": "LayoutModel",
          "model_module_version": "1.2.0",
          "state": {
            "_model_module": "@jupyter-widgets/base",
            "_model_module_version": "1.2.0",
            "_model_name": "LayoutModel",
            "_view_count": null,
            "_view_module": "@jupyter-widgets/base",
            "_view_module_version": "1.2.0",
            "_view_name": "LayoutView",
            "align_content": null,
            "align_items": null,
            "align_self": null,
            "border": null,
            "bottom": null,
            "display": null,
            "flex": null,
            "flex_flow": null,
            "grid_area": null,
            "grid_auto_columns": null,
            "grid_auto_flow": null,
            "grid_auto_rows": null,
            "grid_column": null,
            "grid_gap": null,
            "grid_row": null,
            "grid_template_areas": null,
            "grid_template_columns": null,
            "grid_template_rows": null,
            "height": null,
            "justify_content": null,
            "justify_items": null,
            "left": null,
            "margin": null,
            "max_height": null,
            "max_width": null,
            "min_height": null,
            "min_width": null,
            "object_fit": null,
            "object_position": null,
            "order": null,
            "overflow": null,
            "overflow_x": null,
            "overflow_y": null,
            "padding": null,
            "right": null,
            "top": null,
            "visibility": null,
            "width": null
          }
        },
        "2c8f17fdeb304b878296b85497be1b95": {
          "model_module": "@jupyter-widgets/controls",
          "model_name": "ProgressStyleModel",
          "model_module_version": "1.5.0",
          "state": {
            "_model_module": "@jupyter-widgets/controls",
            "_model_module_version": "1.5.0",
            "_model_name": "ProgressStyleModel",
            "_view_count": null,
            "_view_module": "@jupyter-widgets/base",
            "_view_module_version": "1.2.0",
            "_view_name": "StyleView",
            "bar_color": null,
            "description_width": ""
          }
        },
        "92ebc2a3a87b4b3aadf76ed1d784ca42": {
          "model_module": "@jupyter-widgets/base",
          "model_name": "LayoutModel",
          "model_module_version": "1.2.0",
          "state": {
            "_model_module": "@jupyter-widgets/base",
            "_model_module_version": "1.2.0",
            "_model_name": "LayoutModel",
            "_view_count": null,
            "_view_module": "@jupyter-widgets/base",
            "_view_module_version": "1.2.0",
            "_view_name": "LayoutView",
            "align_content": null,
            "align_items": null,
            "align_self": null,
            "border": null,
            "bottom": null,
            "display": null,
            "flex": null,
            "flex_flow": null,
            "grid_area": null,
            "grid_auto_columns": null,
            "grid_auto_flow": null,
            "grid_auto_rows": null,
            "grid_column": null,
            "grid_gap": null,
            "grid_row": null,
            "grid_template_areas": null,
            "grid_template_columns": null,
            "grid_template_rows": null,
            "height": null,
            "justify_content": null,
            "justify_items": null,
            "left": null,
            "margin": null,
            "max_height": null,
            "max_width": null,
            "min_height": null,
            "min_width": null,
            "object_fit": null,
            "object_position": null,
            "order": null,
            "overflow": null,
            "overflow_x": null,
            "overflow_y": null,
            "padding": null,
            "right": null,
            "top": null,
            "visibility": null,
            "width": null
          }
        },
        "8e301f6f296c44cfbf82ec89ea2047a8": {
          "model_module": "@jupyter-widgets/controls",
          "model_name": "DescriptionStyleModel",
          "model_module_version": "1.5.0",
          "state": {
            "_model_module": "@jupyter-widgets/controls",
            "_model_module_version": "1.5.0",
            "_model_name": "DescriptionStyleModel",
            "_view_count": null,
            "_view_module": "@jupyter-widgets/base",
            "_view_module_version": "1.2.0",
            "_view_name": "StyleView",
            "description_width": ""
          }
        },
        "d2f4ad5555554d6982bd63f46f3e9613": {
          "model_module": "@jupyter-widgets/controls",
          "model_name": "HBoxModel",
          "model_module_version": "1.5.0",
          "state": {
            "_dom_classes": [],
            "_model_module": "@jupyter-widgets/controls",
            "_model_module_version": "1.5.0",
            "_model_name": "HBoxModel",
            "_view_count": null,
            "_view_module": "@jupyter-widgets/controls",
            "_view_module_version": "1.5.0",
            "_view_name": "HBoxView",
            "box_style": "",
            "children": [
              "IPY_MODEL_9881e78036624eb5b6bfa03c7d3c5b78",
              "IPY_MODEL_c262cc61f7f6449a8fe63b20fd7fd715",
              "IPY_MODEL_88bdf50fb4674ac18d8f92549d862374"
            ],
            "layout": "IPY_MODEL_d81e58d2827e46ba9d79c16a740f7de5"
          }
        },
        "9881e78036624eb5b6bfa03c7d3c5b78": {
          "model_module": "@jupyter-widgets/controls",
          "model_name": "HTMLModel",
          "model_module_version": "1.5.0",
          "state": {
            "_dom_classes": [],
            "_model_module": "@jupyter-widgets/controls",
            "_model_module_version": "1.5.0",
            "_model_name": "HTMLModel",
            "_view_count": null,
            "_view_module": "@jupyter-widgets/controls",
            "_view_module_version": "1.5.0",
            "_view_name": "HTMLView",
            "description": "",
            "description_tooltip": null,
            "layout": "IPY_MODEL_cd6a572a2a2a4eda86235441a1354ea5",
            "placeholder": "​",
            "style": "IPY_MODEL_4d3455371c624a7284061ac7266b08f5",
            "value": "100%"
          }
        },
        "c262cc61f7f6449a8fe63b20fd7fd715": {
          "model_module": "@jupyter-widgets/controls",
          "model_name": "FloatProgressModel",
          "model_module_version": "1.5.0",
          "state": {
            "_dom_classes": [],
            "_model_module": "@jupyter-widgets/controls",
            "_model_module_version": "1.5.0",
            "_model_name": "FloatProgressModel",
            "_view_count": null,
            "_view_module": "@jupyter-widgets/controls",
            "_view_module_version": "1.5.0",
            "_view_name": "ProgressView",
            "bar_style": "success",
            "description": "",
            "description_tooltip": null,
            "layout": "IPY_MODEL_24af452aee0842fb8e12bc7c3f5edae1",
            "max": 1353,
            "min": 0,
            "orientation": "horizontal",
            "style": "IPY_MODEL_d9eb14c1854b4956a4df26a89fbd8954",
            "value": 1353
          }
        },
        "88bdf50fb4674ac18d8f92549d862374": {
          "model_module": "@jupyter-widgets/controls",
          "model_name": "HTMLModel",
          "model_module_version": "1.5.0",
          "state": {
            "_dom_classes": [],
            "_model_module": "@jupyter-widgets/controls",
            "_model_module_version": "1.5.0",
            "_model_name": "HTMLModel",
            "_view_count": null,
            "_view_module": "@jupyter-widgets/controls",
            "_view_module_version": "1.5.0",
            "_view_name": "HTMLView",
            "description": "",
            "description_tooltip": null,
            "layout": "IPY_MODEL_46177d44602a453fb7a0a34f3ed843f8",
            "placeholder": "​",
            "style": "IPY_MODEL_9bf240d0d51446f59a790fa15a7cf91e",
            "value": " 1353/1353 [00:00&lt;00:00, 11218.41it/s]"
          }
        },
        "d81e58d2827e46ba9d79c16a740f7de5": {
          "model_module": "@jupyter-widgets/base",
          "model_name": "LayoutModel",
          "model_module_version": "1.2.0",
          "state": {
            "_model_module": "@jupyter-widgets/base",
            "_model_module_version": "1.2.0",
            "_model_name": "LayoutModel",
            "_view_count": null,
            "_view_module": "@jupyter-widgets/base",
            "_view_module_version": "1.2.0",
            "_view_name": "LayoutView",
            "align_content": null,
            "align_items": null,
            "align_self": null,
            "border": null,
            "bottom": null,
            "display": null,
            "flex": null,
            "flex_flow": null,
            "grid_area": null,
            "grid_auto_columns": null,
            "grid_auto_flow": null,
            "grid_auto_rows": null,
            "grid_column": null,
            "grid_gap": null,
            "grid_row": null,
            "grid_template_areas": null,
            "grid_template_columns": null,
            "grid_template_rows": null,
            "height": null,
            "justify_content": null,
            "justify_items": null,
            "left": null,
            "margin": null,
            "max_height": null,
            "max_width": null,
            "min_height": null,
            "min_width": null,
            "object_fit": null,
            "object_position": null,
            "order": null,
            "overflow": null,
            "overflow_x": null,
            "overflow_y": null,
            "padding": null,
            "right": null,
            "top": null,
            "visibility": null,
            "width": null
          }
        },
        "cd6a572a2a2a4eda86235441a1354ea5": {
          "model_module": "@jupyter-widgets/base",
          "model_name": "LayoutModel",
          "model_module_version": "1.2.0",
          "state": {
            "_model_module": "@jupyter-widgets/base",
            "_model_module_version": "1.2.0",
            "_model_name": "LayoutModel",
            "_view_count": null,
            "_view_module": "@jupyter-widgets/base",
            "_view_module_version": "1.2.0",
            "_view_name": "LayoutView",
            "align_content": null,
            "align_items": null,
            "align_self": null,
            "border": null,
            "bottom": null,
            "display": null,
            "flex": null,
            "flex_flow": null,
            "grid_area": null,
            "grid_auto_columns": null,
            "grid_auto_flow": null,
            "grid_auto_rows": null,
            "grid_column": null,
            "grid_gap": null,
            "grid_row": null,
            "grid_template_areas": null,
            "grid_template_columns": null,
            "grid_template_rows": null,
            "height": null,
            "justify_content": null,
            "justify_items": null,
            "left": null,
            "margin": null,
            "max_height": null,
            "max_width": null,
            "min_height": null,
            "min_width": null,
            "object_fit": null,
            "object_position": null,
            "order": null,
            "overflow": null,
            "overflow_x": null,
            "overflow_y": null,
            "padding": null,
            "right": null,
            "top": null,
            "visibility": null,
            "width": null
          }
        },
        "4d3455371c624a7284061ac7266b08f5": {
          "model_module": "@jupyter-widgets/controls",
          "model_name": "DescriptionStyleModel",
          "model_module_version": "1.5.0",
          "state": {
            "_model_module": "@jupyter-widgets/controls",
            "_model_module_version": "1.5.0",
            "_model_name": "DescriptionStyleModel",
            "_view_count": null,
            "_view_module": "@jupyter-widgets/base",
            "_view_module_version": "1.2.0",
            "_view_name": "StyleView",
            "description_width": ""
          }
        },
        "24af452aee0842fb8e12bc7c3f5edae1": {
          "model_module": "@jupyter-widgets/base",
          "model_name": "LayoutModel",
          "model_module_version": "1.2.0",
          "state": {
            "_model_module": "@jupyter-widgets/base",
            "_model_module_version": "1.2.0",
            "_model_name": "LayoutModel",
            "_view_count": null,
            "_view_module": "@jupyter-widgets/base",
            "_view_module_version": "1.2.0",
            "_view_name": "LayoutView",
            "align_content": null,
            "align_items": null,
            "align_self": null,
            "border": null,
            "bottom": null,
            "display": null,
            "flex": null,
            "flex_flow": null,
            "grid_area": null,
            "grid_auto_columns": null,
            "grid_auto_flow": null,
            "grid_auto_rows": null,
            "grid_column": null,
            "grid_gap": null,
            "grid_row": null,
            "grid_template_areas": null,
            "grid_template_columns": null,
            "grid_template_rows": null,
            "height": null,
            "justify_content": null,
            "justify_items": null,
            "left": null,
            "margin": null,
            "max_height": null,
            "max_width": null,
            "min_height": null,
            "min_width": null,
            "object_fit": null,
            "object_position": null,
            "order": null,
            "overflow": null,
            "overflow_x": null,
            "overflow_y": null,
            "padding": null,
            "right": null,
            "top": null,
            "visibility": null,
            "width": null
          }
        },
        "d9eb14c1854b4956a4df26a89fbd8954": {
          "model_module": "@jupyter-widgets/controls",
          "model_name": "ProgressStyleModel",
          "model_module_version": "1.5.0",
          "state": {
            "_model_module": "@jupyter-widgets/controls",
            "_model_module_version": "1.5.0",
            "_model_name": "ProgressStyleModel",
            "_view_count": null,
            "_view_module": "@jupyter-widgets/base",
            "_view_module_version": "1.2.0",
            "_view_name": "StyleView",
            "bar_color": null,
            "description_width": ""
          }
        },
        "46177d44602a453fb7a0a34f3ed843f8": {
          "model_module": "@jupyter-widgets/base",
          "model_name": "LayoutModel",
          "model_module_version": "1.2.0",
          "state": {
            "_model_module": "@jupyter-widgets/base",
            "_model_module_version": "1.2.0",
            "_model_name": "LayoutModel",
            "_view_count": null,
            "_view_module": "@jupyter-widgets/base",
            "_view_module_version": "1.2.0",
            "_view_name": "LayoutView",
            "align_content": null,
            "align_items": null,
            "align_self": null,
            "border": null,
            "bottom": null,
            "display": null,
            "flex": null,
            "flex_flow": null,
            "grid_area": null,
            "grid_auto_columns": null,
            "grid_auto_flow": null,
            "grid_auto_rows": null,
            "grid_column": null,
            "grid_gap": null,
            "grid_row": null,
            "grid_template_areas": null,
            "grid_template_columns": null,
            "grid_template_rows": null,
            "height": null,
            "justify_content": null,
            "justify_items": null,
            "left": null,
            "margin": null,
            "max_height": null,
            "max_width": null,
            "min_height": null,
            "min_width": null,
            "object_fit": null,
            "object_position": null,
            "order": null,
            "overflow": null,
            "overflow_x": null,
            "overflow_y": null,
            "padding": null,
            "right": null,
            "top": null,
            "visibility": null,
            "width": null
          }
        },
        "9bf240d0d51446f59a790fa15a7cf91e": {
          "model_module": "@jupyter-widgets/controls",
          "model_name": "DescriptionStyleModel",
          "model_module_version": "1.5.0",
          "state": {
            "_model_module": "@jupyter-widgets/controls",
            "_model_module_version": "1.5.0",
            "_model_name": "DescriptionStyleModel",
            "_view_count": null,
            "_view_module": "@jupyter-widgets/base",
            "_view_module_version": "1.2.0",
            "_view_name": "StyleView",
            "description_width": ""
          }
        },
        "13e4a34088a24a5eb36ca23b16f6daa7": {
          "model_module": "@jupyter-widgets/controls",
          "model_name": "HBoxModel",
          "model_module_version": "1.5.0",
          "state": {
            "_dom_classes": [],
            "_model_module": "@jupyter-widgets/controls",
            "_model_module_version": "1.5.0",
            "_model_name": "HBoxModel",
            "_view_count": null,
            "_view_module": "@jupyter-widgets/controls",
            "_view_module_version": "1.5.0",
            "_view_name": "HBoxView",
            "box_style": "",
            "children": [
              "IPY_MODEL_6a1d340bed1a435aa71b3ea34cdb8877",
              "IPY_MODEL_40224c6f872142b3aa5dc33e281cf614",
              "IPY_MODEL_7a835bd4d33846e6ab40b6d36f59f8ec"
            ],
            "layout": "IPY_MODEL_ce0301f38d814bbf95dc618431dbdd79"
          }
        },
        "6a1d340bed1a435aa71b3ea34cdb8877": {
          "model_module": "@jupyter-widgets/controls",
          "model_name": "HTMLModel",
          "model_module_version": "1.5.0",
          "state": {
            "_dom_classes": [],
            "_model_module": "@jupyter-widgets/controls",
            "_model_module_version": "1.5.0",
            "_model_name": "HTMLModel",
            "_view_count": null,
            "_view_module": "@jupyter-widgets/controls",
            "_view_module_version": "1.5.0",
            "_view_name": "HTMLView",
            "description": "",
            "description_tooltip": null,
            "layout": "IPY_MODEL_e99728de538a453e8f2177005fab3530",
            "placeholder": "​",
            "style": "IPY_MODEL_b01071d0d8fc47f7a83c55f882c726dc",
            "value": "100%"
          }
        },
        "40224c6f872142b3aa5dc33e281cf614": {
          "model_module": "@jupyter-widgets/controls",
          "model_name": "FloatProgressModel",
          "model_module_version": "1.5.0",
          "state": {
            "_dom_classes": [],
            "_model_module": "@jupyter-widgets/controls",
            "_model_module_version": "1.5.0",
            "_model_name": "FloatProgressModel",
            "_view_count": null,
            "_view_module": "@jupyter-widgets/controls",
            "_view_module_version": "1.5.0",
            "_view_name": "ProgressView",
            "bar_style": "success",
            "description": "",
            "description_tooltip": null,
            "layout": "IPY_MODEL_165881c3b29f4db6bdc4a66bd203647b",
            "max": 500,
            "min": 0,
            "orientation": "horizontal",
            "style": "IPY_MODEL_fc9c9623e40f43a597e3879f05e25cff",
            "value": 500
          }
        },
        "7a835bd4d33846e6ab40b6d36f59f8ec": {
          "model_module": "@jupyter-widgets/controls",
          "model_name": "HTMLModel",
          "model_module_version": "1.5.0",
          "state": {
            "_dom_classes": [],
            "_model_module": "@jupyter-widgets/controls",
            "_model_module_version": "1.5.0",
            "_model_name": "HTMLModel",
            "_view_count": null,
            "_view_module": "@jupyter-widgets/controls",
            "_view_module_version": "1.5.0",
            "_view_name": "HTMLView",
            "description": "",
            "description_tooltip": null,
            "layout": "IPY_MODEL_4380a2acfc0a4889ab381e2af6bbc7ca",
            "placeholder": "​",
            "style": "IPY_MODEL_88aadc70e6914430864a49884569be88",
            "value": " 500/500 [03:25&lt;00:00,  2.41it/s]"
          }
        },
        "ce0301f38d814bbf95dc618431dbdd79": {
          "model_module": "@jupyter-widgets/base",
          "model_name": "LayoutModel",
          "model_module_version": "1.2.0",
          "state": {
            "_model_module": "@jupyter-widgets/base",
            "_model_module_version": "1.2.0",
            "_model_name": "LayoutModel",
            "_view_count": null,
            "_view_module": "@jupyter-widgets/base",
            "_view_module_version": "1.2.0",
            "_view_name": "LayoutView",
            "align_content": null,
            "align_items": null,
            "align_self": null,
            "border": null,
            "bottom": null,
            "display": null,
            "flex": null,
            "flex_flow": null,
            "grid_area": null,
            "grid_auto_columns": null,
            "grid_auto_flow": null,
            "grid_auto_rows": null,
            "grid_column": null,
            "grid_gap": null,
            "grid_row": null,
            "grid_template_areas": null,
            "grid_template_columns": null,
            "grid_template_rows": null,
            "height": null,
            "justify_content": null,
            "justify_items": null,
            "left": null,
            "margin": null,
            "max_height": null,
            "max_width": null,
            "min_height": null,
            "min_width": null,
            "object_fit": null,
            "object_position": null,
            "order": null,
            "overflow": null,
            "overflow_x": null,
            "overflow_y": null,
            "padding": null,
            "right": null,
            "top": null,
            "visibility": null,
            "width": null
          }
        },
        "e99728de538a453e8f2177005fab3530": {
          "model_module": "@jupyter-widgets/base",
          "model_name": "LayoutModel",
          "model_module_version": "1.2.0",
          "state": {
            "_model_module": "@jupyter-widgets/base",
            "_model_module_version": "1.2.0",
            "_model_name": "LayoutModel",
            "_view_count": null,
            "_view_module": "@jupyter-widgets/base",
            "_view_module_version": "1.2.0",
            "_view_name": "LayoutView",
            "align_content": null,
            "align_items": null,
            "align_self": null,
            "border": null,
            "bottom": null,
            "display": null,
            "flex": null,
            "flex_flow": null,
            "grid_area": null,
            "grid_auto_columns": null,
            "grid_auto_flow": null,
            "grid_auto_rows": null,
            "grid_column": null,
            "grid_gap": null,
            "grid_row": null,
            "grid_template_areas": null,
            "grid_template_columns": null,
            "grid_template_rows": null,
            "height": null,
            "justify_content": null,
            "justify_items": null,
            "left": null,
            "margin": null,
            "max_height": null,
            "max_width": null,
            "min_height": null,
            "min_width": null,
            "object_fit": null,
            "object_position": null,
            "order": null,
            "overflow": null,
            "overflow_x": null,
            "overflow_y": null,
            "padding": null,
            "right": null,
            "top": null,
            "visibility": null,
            "width": null
          }
        },
        "b01071d0d8fc47f7a83c55f882c726dc": {
          "model_module": "@jupyter-widgets/controls",
          "model_name": "DescriptionStyleModel",
          "model_module_version": "1.5.0",
          "state": {
            "_model_module": "@jupyter-widgets/controls",
            "_model_module_version": "1.5.0",
            "_model_name": "DescriptionStyleModel",
            "_view_count": null,
            "_view_module": "@jupyter-widgets/base",
            "_view_module_version": "1.2.0",
            "_view_name": "StyleView",
            "description_width": ""
          }
        },
        "165881c3b29f4db6bdc4a66bd203647b": {
          "model_module": "@jupyter-widgets/base",
          "model_name": "LayoutModel",
          "model_module_version": "1.2.0",
          "state": {
            "_model_module": "@jupyter-widgets/base",
            "_model_module_version": "1.2.0",
            "_model_name": "LayoutModel",
            "_view_count": null,
            "_view_module": "@jupyter-widgets/base",
            "_view_module_version": "1.2.0",
            "_view_name": "LayoutView",
            "align_content": null,
            "align_items": null,
            "align_self": null,
            "border": null,
            "bottom": null,
            "display": null,
            "flex": null,
            "flex_flow": null,
            "grid_area": null,
            "grid_auto_columns": null,
            "grid_auto_flow": null,
            "grid_auto_rows": null,
            "grid_column": null,
            "grid_gap": null,
            "grid_row": null,
            "grid_template_areas": null,
            "grid_template_columns": null,
            "grid_template_rows": null,
            "height": null,
            "justify_content": null,
            "justify_items": null,
            "left": null,
            "margin": null,
            "max_height": null,
            "max_width": null,
            "min_height": null,
            "min_width": null,
            "object_fit": null,
            "object_position": null,
            "order": null,
            "overflow": null,
            "overflow_x": null,
            "overflow_y": null,
            "padding": null,
            "right": null,
            "top": null,
            "visibility": null,
            "width": null
          }
        },
        "fc9c9623e40f43a597e3879f05e25cff": {
          "model_module": "@jupyter-widgets/controls",
          "model_name": "ProgressStyleModel",
          "model_module_version": "1.5.0",
          "state": {
            "_model_module": "@jupyter-widgets/controls",
            "_model_module_version": "1.5.0",
            "_model_name": "ProgressStyleModel",
            "_view_count": null,
            "_view_module": "@jupyter-widgets/base",
            "_view_module_version": "1.2.0",
            "_view_name": "StyleView",
            "bar_color": null,
            "description_width": ""
          }
        },
        "4380a2acfc0a4889ab381e2af6bbc7ca": {
          "model_module": "@jupyter-widgets/base",
          "model_name": "LayoutModel",
          "model_module_version": "1.2.0",
          "state": {
            "_model_module": "@jupyter-widgets/base",
            "_model_module_version": "1.2.0",
            "_model_name": "LayoutModel",
            "_view_count": null,
            "_view_module": "@jupyter-widgets/base",
            "_view_module_version": "1.2.0",
            "_view_name": "LayoutView",
            "align_content": null,
            "align_items": null,
            "align_self": null,
            "border": null,
            "bottom": null,
            "display": null,
            "flex": null,
            "flex_flow": null,
            "grid_area": null,
            "grid_auto_columns": null,
            "grid_auto_flow": null,
            "grid_auto_rows": null,
            "grid_column": null,
            "grid_gap": null,
            "grid_row": null,
            "grid_template_areas": null,
            "grid_template_columns": null,
            "grid_template_rows": null,
            "height": null,
            "justify_content": null,
            "justify_items": null,
            "left": null,
            "margin": null,
            "max_height": null,
            "max_width": null,
            "min_height": null,
            "min_width": null,
            "object_fit": null,
            "object_position": null,
            "order": null,
            "overflow": null,
            "overflow_x": null,
            "overflow_y": null,
            "padding": null,
            "right": null,
            "top": null,
            "visibility": null,
            "width": null
          }
        },
        "88aadc70e6914430864a49884569be88": {
          "model_module": "@jupyter-widgets/controls",
          "model_name": "DescriptionStyleModel",
          "model_module_version": "1.5.0",
          "state": {
            "_model_module": "@jupyter-widgets/controls",
            "_model_module_version": "1.5.0",
            "_model_name": "DescriptionStyleModel",
            "_view_count": null,
            "_view_module": "@jupyter-widgets/base",
            "_view_module_version": "1.2.0",
            "_view_name": "StyleView",
            "description_width": ""
          }
        },
        "1c929592ee034c709db1998d95cdbb37": {
          "model_module": "@jupyter-widgets/controls",
          "model_name": "HBoxModel",
          "model_module_version": "1.5.0",
          "state": {
            "_dom_classes": [],
            "_model_module": "@jupyter-widgets/controls",
            "_model_module_version": "1.5.0",
            "_model_name": "HBoxModel",
            "_view_count": null,
            "_view_module": "@jupyter-widgets/controls",
            "_view_module_version": "1.5.0",
            "_view_name": "HBoxView",
            "box_style": "",
            "children": [
              "IPY_MODEL_bd4bee1b516e47f98f406fb89742feba",
              "IPY_MODEL_016119c10f634050a11e25f5278fa40f",
              "IPY_MODEL_086e7028784e4f28a7e00ed1343a6348"
            ],
            "layout": "IPY_MODEL_8a0840903cf14897b2e2658f0ae31000"
          }
        },
        "bd4bee1b516e47f98f406fb89742feba": {
          "model_module": "@jupyter-widgets/controls",
          "model_name": "HTMLModel",
          "model_module_version": "1.5.0",
          "state": {
            "_dom_classes": [],
            "_model_module": "@jupyter-widgets/controls",
            "_model_module_version": "1.5.0",
            "_model_name": "HTMLModel",
            "_view_count": null,
            "_view_module": "@jupyter-widgets/controls",
            "_view_module_version": "1.5.0",
            "_view_name": "HTMLView",
            "description": "",
            "description_tooltip": null,
            "layout": "IPY_MODEL_2ffedb64f2b04876b6ac695d1c1c41ba",
            "placeholder": "​",
            "style": "IPY_MODEL_6f5cc83315074f30a9680d7016eab346",
            "value": "100%"
          }
        },
        "016119c10f634050a11e25f5278fa40f": {
          "model_module": "@jupyter-widgets/controls",
          "model_name": "FloatProgressModel",
          "model_module_version": "1.5.0",
          "state": {
            "_dom_classes": [],
            "_model_module": "@jupyter-widgets/controls",
            "_model_module_version": "1.5.0",
            "_model_name": "FloatProgressModel",
            "_view_count": null,
            "_view_module": "@jupyter-widgets/controls",
            "_view_module_version": "1.5.0",
            "_view_name": "ProgressView",
            "bar_style": "success",
            "description": "",
            "description_tooltip": null,
            "layout": "IPY_MODEL_5882f3dfba144b7aa77454695b27d120",
            "max": 500,
            "min": 0,
            "orientation": "horizontal",
            "style": "IPY_MODEL_af3a608da4214c0da55a1824bd4b2551",
            "value": 500
          }
        },
        "086e7028784e4f28a7e00ed1343a6348": {
          "model_module": "@jupyter-widgets/controls",
          "model_name": "HTMLModel",
          "model_module_version": "1.5.0",
          "state": {
            "_dom_classes": [],
            "_model_module": "@jupyter-widgets/controls",
            "_model_module_version": "1.5.0",
            "_model_name": "HTMLModel",
            "_view_count": null,
            "_view_module": "@jupyter-widgets/controls",
            "_view_module_version": "1.5.0",
            "_view_name": "HTMLView",
            "description": "",
            "description_tooltip": null,
            "layout": "IPY_MODEL_d2d62f2e552c482b9eeea42ba1121fda",
            "placeholder": "​",
            "style": "IPY_MODEL_b16f372c81d349dfaa98e2aedb3afc0c",
            "value": " 500/500 [03:22&lt;00:00,  2.47it/s]"
          }
        },
        "8a0840903cf14897b2e2658f0ae31000": {
          "model_module": "@jupyter-widgets/base",
          "model_name": "LayoutModel",
          "model_module_version": "1.2.0",
          "state": {
            "_model_module": "@jupyter-widgets/base",
            "_model_module_version": "1.2.0",
            "_model_name": "LayoutModel",
            "_view_count": null,
            "_view_module": "@jupyter-widgets/base",
            "_view_module_version": "1.2.0",
            "_view_name": "LayoutView",
            "align_content": null,
            "align_items": null,
            "align_self": null,
            "border": null,
            "bottom": null,
            "display": null,
            "flex": null,
            "flex_flow": null,
            "grid_area": null,
            "grid_auto_columns": null,
            "grid_auto_flow": null,
            "grid_auto_rows": null,
            "grid_column": null,
            "grid_gap": null,
            "grid_row": null,
            "grid_template_areas": null,
            "grid_template_columns": null,
            "grid_template_rows": null,
            "height": null,
            "justify_content": null,
            "justify_items": null,
            "left": null,
            "margin": null,
            "max_height": null,
            "max_width": null,
            "min_height": null,
            "min_width": null,
            "object_fit": null,
            "object_position": null,
            "order": null,
            "overflow": null,
            "overflow_x": null,
            "overflow_y": null,
            "padding": null,
            "right": null,
            "top": null,
            "visibility": null,
            "width": null
          }
        },
        "2ffedb64f2b04876b6ac695d1c1c41ba": {
          "model_module": "@jupyter-widgets/base",
          "model_name": "LayoutModel",
          "model_module_version": "1.2.0",
          "state": {
            "_model_module": "@jupyter-widgets/base",
            "_model_module_version": "1.2.0",
            "_model_name": "LayoutModel",
            "_view_count": null,
            "_view_module": "@jupyter-widgets/base",
            "_view_module_version": "1.2.0",
            "_view_name": "LayoutView",
            "align_content": null,
            "align_items": null,
            "align_self": null,
            "border": null,
            "bottom": null,
            "display": null,
            "flex": null,
            "flex_flow": null,
            "grid_area": null,
            "grid_auto_columns": null,
            "grid_auto_flow": null,
            "grid_auto_rows": null,
            "grid_column": null,
            "grid_gap": null,
            "grid_row": null,
            "grid_template_areas": null,
            "grid_template_columns": null,
            "grid_template_rows": null,
            "height": null,
            "justify_content": null,
            "justify_items": null,
            "left": null,
            "margin": null,
            "max_height": null,
            "max_width": null,
            "min_height": null,
            "min_width": null,
            "object_fit": null,
            "object_position": null,
            "order": null,
            "overflow": null,
            "overflow_x": null,
            "overflow_y": null,
            "padding": null,
            "right": null,
            "top": null,
            "visibility": null,
            "width": null
          }
        },
        "6f5cc83315074f30a9680d7016eab346": {
          "model_module": "@jupyter-widgets/controls",
          "model_name": "DescriptionStyleModel",
          "model_module_version": "1.5.0",
          "state": {
            "_model_module": "@jupyter-widgets/controls",
            "_model_module_version": "1.5.0",
            "_model_name": "DescriptionStyleModel",
            "_view_count": null,
            "_view_module": "@jupyter-widgets/base",
            "_view_module_version": "1.2.0",
            "_view_name": "StyleView",
            "description_width": ""
          }
        },
        "5882f3dfba144b7aa77454695b27d120": {
          "model_module": "@jupyter-widgets/base",
          "model_name": "LayoutModel",
          "model_module_version": "1.2.0",
          "state": {
            "_model_module": "@jupyter-widgets/base",
            "_model_module_version": "1.2.0",
            "_model_name": "LayoutModel",
            "_view_count": null,
            "_view_module": "@jupyter-widgets/base",
            "_view_module_version": "1.2.0",
            "_view_name": "LayoutView",
            "align_content": null,
            "align_items": null,
            "align_self": null,
            "border": null,
            "bottom": null,
            "display": null,
            "flex": null,
            "flex_flow": null,
            "grid_area": null,
            "grid_auto_columns": null,
            "grid_auto_flow": null,
            "grid_auto_rows": null,
            "grid_column": null,
            "grid_gap": null,
            "grid_row": null,
            "grid_template_areas": null,
            "grid_template_columns": null,
            "grid_template_rows": null,
            "height": null,
            "justify_content": null,
            "justify_items": null,
            "left": null,
            "margin": null,
            "max_height": null,
            "max_width": null,
            "min_height": null,
            "min_width": null,
            "object_fit": null,
            "object_position": null,
            "order": null,
            "overflow": null,
            "overflow_x": null,
            "overflow_y": null,
            "padding": null,
            "right": null,
            "top": null,
            "visibility": null,
            "width": null
          }
        },
        "af3a608da4214c0da55a1824bd4b2551": {
          "model_module": "@jupyter-widgets/controls",
          "model_name": "ProgressStyleModel",
          "model_module_version": "1.5.0",
          "state": {
            "_model_module": "@jupyter-widgets/controls",
            "_model_module_version": "1.5.0",
            "_model_name": "ProgressStyleModel",
            "_view_count": null,
            "_view_module": "@jupyter-widgets/base",
            "_view_module_version": "1.2.0",
            "_view_name": "StyleView",
            "bar_color": null,
            "description_width": ""
          }
        },
        "d2d62f2e552c482b9eeea42ba1121fda": {
          "model_module": "@jupyter-widgets/base",
          "model_name": "LayoutModel",
          "model_module_version": "1.2.0",
          "state": {
            "_model_module": "@jupyter-widgets/base",
            "_model_module_version": "1.2.0",
            "_model_name": "LayoutModel",
            "_view_count": null,
            "_view_module": "@jupyter-widgets/base",
            "_view_module_version": "1.2.0",
            "_view_name": "LayoutView",
            "align_content": null,
            "align_items": null,
            "align_self": null,
            "border": null,
            "bottom": null,
            "display": null,
            "flex": null,
            "flex_flow": null,
            "grid_area": null,
            "grid_auto_columns": null,
            "grid_auto_flow": null,
            "grid_auto_rows": null,
            "grid_column": null,
            "grid_gap": null,
            "grid_row": null,
            "grid_template_areas": null,
            "grid_template_columns": null,
            "grid_template_rows": null,
            "height": null,
            "justify_content": null,
            "justify_items": null,
            "left": null,
            "margin": null,
            "max_height": null,
            "max_width": null,
            "min_height": null,
            "min_width": null,
            "object_fit": null,
            "object_position": null,
            "order": null,
            "overflow": null,
            "overflow_x": null,
            "overflow_y": null,
            "padding": null,
            "right": null,
            "top": null,
            "visibility": null,
            "width": null
          }
        },
        "b16f372c81d349dfaa98e2aedb3afc0c": {
          "model_module": "@jupyter-widgets/controls",
          "model_name": "DescriptionStyleModel",
          "model_module_version": "1.5.0",
          "state": {
            "_model_module": "@jupyter-widgets/controls",
            "_model_module_version": "1.5.0",
            "_model_name": "DescriptionStyleModel",
            "_view_count": null,
            "_view_module": "@jupyter-widgets/base",
            "_view_module_version": "1.2.0",
            "_view_name": "StyleView",
            "description_width": ""
          }
        }
      }
    }
  },
  "cells": [
    {
      "cell_type": "markdown",
      "source": [
        "**This notebook calculates the Frechet Inception Distance (FID) of 50000 generated images using the official implementation of FID to Pytorch [2].**"
      ],
      "metadata": {
        "id": "s-sDjnhiTnvV"
      }
    },
    {
      "cell_type": "markdown",
      "source": [
        "References: <br>\n",
        "[1] Kaggle dataset: https://www.kaggle.com/datasets/yuanhaowang486/chinese-calligraphy-styles-by-calligraphers <br>\n",
        "[2] Github repository: https://github.com/mseitzer/pytorch-fid"
      ],
      "metadata": {
        "id": "r6AkP5zRJMAR"
      }
    },
    {
      "cell_type": "markdown",
      "source": [
        "Install the package of the official implementation of FID to Pytorch [2]"
      ],
      "metadata": {
        "id": "jwqZqYkaUfWD"
      }
    },
    {
      "cell_type": "code",
      "execution_count": null,
      "metadata": {
        "id": "lrnZioVD8eii"
      },
      "outputs": [],
      "source": [
        "! pip install pytorch-fid"
      ]
    },
    {
      "cell_type": "markdown",
      "source": [
        "Commands for downloading the dataset [1] used for training from kaggle in google colab. Note: file 'kaggle.json' is needed"
      ],
      "metadata": {
        "id": "yBRCBtrJWP06"
      }
    },
    {
      "cell_type": "code",
      "source": [
        "! mkdir ~/.kaggle"
      ],
      "metadata": {
        "id": "kk80e5pv8neW"
      },
      "execution_count": null,
      "outputs": []
    },
    {
      "cell_type": "code",
      "source": [
        "! cp kaggle.json ~/.kaggle/"
      ],
      "metadata": {
        "id": "qeknFl248ncH"
      },
      "execution_count": null,
      "outputs": []
    },
    {
      "cell_type": "code",
      "source": [
        "! chmod 600 ~/.kaggle/kaggle.json"
      ],
      "metadata": {
        "id": "9yqMbENb8nZ7"
      },
      "execution_count": null,
      "outputs": []
    },
    {
      "cell_type": "code",
      "source": [
        "! kaggle datasets download -d yuanhaowang486/chinese-calligraphy-styles-by-calligraphers"
      ],
      "metadata": {
        "id": "IEEZPFd68nXs"
      },
      "execution_count": null,
      "outputs": []
    },
    {
      "cell_type": "code",
      "source": [
        "! unzip /content/chinese-calligraphy-styles-by-calligraphers.zip"
      ],
      "metadata": {
        "id": "UYhF95OF8wF5"
      },
      "execution_count": null,
      "outputs": []
    },
    {
      "cell_type": "code",
      "source": [
        "import os\n",
        "from tqdm.auto import tqdm\n",
        "import torchvision.transforms as transforms\n",
        "from torchvision.utils import save_image\n",
        "from PIL import Image\n",
        "import shutil"
      ],
      "metadata": {
        "id": "e8ZVSwGuyAg8"
      },
      "execution_count": null,
      "outputs": []
    },
    {
      "cell_type": "markdown",
      "source": [
        "Move both the training and test set of the original data to a seperate folder for calculating FID"
      ],
      "metadata": {
        "id": "Qjq3Np5RJsOI"
      }
    },
    {
      "cell_type": "code",
      "source": [
        "if not os.path.exists('dataset_liu_gongquan'):\n",
        "    os.makedirs('dataset_liu_gongquan')"
      ],
      "metadata": {
        "id": "b0roUmZmdCRp"
      },
      "execution_count": null,
      "outputs": []
    },
    {
      "cell_type": "code",
      "source": [
        "for name in tqdm(os.listdir(os.path.join('data','data','train','lgq'))):\n",
        "    source = os.path.join('data','data','train','lgq',name)\n",
        "    destination = 'dataset_liu_gongquan'\n",
        "    shutil.copy(source, destination)"
      ],
      "metadata": {
        "colab": {
          "base_uri": "https://localhost:8080/",
          "height": 49,
          "referenced_widgets": [
            "dfb76bbedbcc42ae9725b0e2eff950c2",
            "1f8f0c94ce8f4c63ba84be8f6f4d7e6a",
            "f34a52e641fe44fb9465c90ee712d03c",
            "5445499dbdb54cf3ba8939330b22ba58",
            "586b6f87ed5341df8e0c4508dbddb526",
            "ab28498c483641e7b73a49d542a692fa",
            "a5340c2d90ea4135bec81d04c61bf2df",
            "b861ce2192a647c8a69d20102ecd1541",
            "c921c39dca114abfbd555355d6198a27",
            "e416f896dc4f4b2bbc79b8366d362cd5",
            "1d817db8ddbd4197b5ebd1d0d4650688"
          ]
        },
        "id": "eSTnUd1fdCPL",
        "outputId": "31483137-280b-40fd-f56e-add29a967521"
      },
      "execution_count": null,
      "outputs": [
        {
          "output_type": "display_data",
          "data": {
            "text/plain": [
              "  0%|          | 0/5410 [00:00<?, ?it/s]"
            ],
            "application/vnd.jupyter.widget-view+json": {
              "version_major": 2,
              "version_minor": 0,
              "model_id": "dfb76bbedbcc42ae9725b0e2eff950c2"
            }
          },
          "metadata": {}
        }
      ]
    },
    {
      "cell_type": "code",
      "source": [
        "for name in tqdm(os.listdir(os.path.join('data','data','test','lgq'))):\n",
        "    source = os.path.join('data','data','test','lgq',name)\n",
        "    destination = 'dataset_liu_gongquan'\n",
        "    shutil.copy(source, destination)"
      ],
      "metadata": {
        "colab": {
          "base_uri": "https://localhost:8080/",
          "height": 49,
          "referenced_widgets": [
            "d43051997ce5456cb654025c31db8d0e",
            "547c741e62894b9e820e5a6aec8e8369",
            "7e483a0eeda142fc8aa6132fdb7a462d",
            "e33ca26a179b49cebed15b70f89ea8c5",
            "a8f7f2dba7e64b46997329b155c4190c",
            "999c02522f4646e9ac1ab08ab0020f9a",
            "64014ddeb8034386a22a83796e3c748a",
            "6738a2fd8fd040a786fbdc66e08ab956",
            "a8eade92dfb343638cd38fded76bd963",
            "7e40931a95f54d81b99e202c011d8d88",
            "3800e0ffc1d848ccb658de11b896298a"
          ]
        },
        "id": "BWiRVGPbdCMu",
        "outputId": "d6817fac-e8de-4cc8-8234-9e68c463b09a"
      },
      "execution_count": null,
      "outputs": [
        {
          "output_type": "display_data",
          "data": {
            "text/plain": [
              "  0%|          | 0/1353 [00:00<?, ?it/s]"
            ],
            "application/vnd.jupyter.widget-view+json": {
              "version_major": 2,
              "version_minor": 0,
              "model_id": "d43051997ce5456cb654025c31db8d0e"
            }
          },
          "metadata": {}
        }
      ]
    },
    {
      "cell_type": "code",
      "source": [
        "if not os.path.exists('dataset_mi_fu'):\n",
        "    os.makedirs('dataset_mi_fu')"
      ],
      "metadata": {
        "id": "z6Qh5ic6KNgJ"
      },
      "execution_count": null,
      "outputs": []
    },
    {
      "cell_type": "code",
      "source": [
        "for name in tqdm(os.listdir(os.path.join('data','data','train','mf'))):\n",
        "    source = os.path.join('data','data','train','mf',name)\n",
        "    destination = 'dataset_mi_fu'\n",
        "    shutil.copy(source, destination)"
      ],
      "metadata": {
        "id": "ZthAlYtmYs6f",
        "colab": {
          "base_uri": "https://localhost:8080/",
          "height": 49,
          "referenced_widgets": [
            "a8046edeaebf4ff9b22a1d4198cbd666",
            "039647d6f08b4f238ae249d77147030a",
            "e629763406e44464b754ef704afc1670",
            "4ee530b2825b42b78755234312bfd808",
            "fcadca6741a24e8c8e8ea1f441e720ff",
            "a54b01aa57754f088de563d84aa8960f",
            "595410e452a547a098a2f8e92e11c16f",
            "49bc822b5a204faaae4cb5dc18ba85e7",
            "2c8f17fdeb304b878296b85497be1b95",
            "92ebc2a3a87b4b3aadf76ed1d784ca42",
            "8e301f6f296c44cfbf82ec89ea2047a8"
          ]
        },
        "outputId": "2c3dd3ce-d18a-492f-9386-34d662e1c3f6"
      },
      "execution_count": null,
      "outputs": [
        {
          "output_type": "display_data",
          "data": {
            "text/plain": [
              "  0%|          | 0/5410 [00:00<?, ?it/s]"
            ],
            "application/vnd.jupyter.widget-view+json": {
              "version_major": 2,
              "version_minor": 0,
              "model_id": "a8046edeaebf4ff9b22a1d4198cbd666"
            }
          },
          "metadata": {}
        }
      ]
    },
    {
      "cell_type": "code",
      "source": [
        "for name in tqdm(os.listdir(os.path.join('data','data','test','mf'))):\n",
        "    source = os.path.join('data','data','test','mf',name)\n",
        "    destination = 'dataset_mi_fu'\n",
        "    shutil.copy(source, destination)"
      ],
      "metadata": {
        "id": "-EEwrsAOYs4B",
        "colab": {
          "base_uri": "https://localhost:8080/",
          "height": 49,
          "referenced_widgets": [
            "d2f4ad5555554d6982bd63f46f3e9613",
            "9881e78036624eb5b6bfa03c7d3c5b78",
            "c262cc61f7f6449a8fe63b20fd7fd715",
            "88bdf50fb4674ac18d8f92549d862374",
            "d81e58d2827e46ba9d79c16a740f7de5",
            "cd6a572a2a2a4eda86235441a1354ea5",
            "4d3455371c624a7284061ac7266b08f5",
            "24af452aee0842fb8e12bc7c3f5edae1",
            "d9eb14c1854b4956a4df26a89fbd8954",
            "46177d44602a453fb7a0a34f3ed843f8",
            "9bf240d0d51446f59a790fa15a7cf91e"
          ]
        },
        "outputId": "8ac6e990-ff2f-4062-cca1-7c2a538610b3"
      },
      "execution_count": null,
      "outputs": [
        {
          "output_type": "display_data",
          "data": {
            "text/plain": [
              "  0%|          | 0/1353 [00:00<?, ?it/s]"
            ],
            "application/vnd.jupyter.widget-view+json": {
              "version_major": 2,
              "version_minor": 0,
              "model_id": "d2f4ad5555554d6982bd63f46f3e9613"
            }
          },
          "metadata": {}
        }
      ]
    },
    {
      "cell_type": "code",
      "source": [
        "print('Total number of Liu Gongquan style images used for training: {}'.format(len(os.listdir('dataset_liu_gongquan'))))\n",
        "print('Total number of Mi Fu style images used for training: {}'.format(len(os.listdir('dataset_mi_fu'))))"
      ],
      "metadata": {
        "colab": {
          "base_uri": "https://localhost:8080/"
        },
        "id": "L0aioVHUdJb4",
        "outputId": "01698a25-b3c3-49f0-c922-f6b7a75caf93"
      },
      "execution_count": null,
      "outputs": [
        {
          "output_type": "stream",
          "name": "stdout",
          "text": [
            "Total number of Liu Gongquan style images used for training: 6763\n",
            "Total number of Mi Fu style images used for training: 6763\n"
          ]
        }
      ]
    },
    {
      "cell_type": "code",
      "source": [
        "from math import log2\n",
        "import random\n",
        "import numpy as np\n",
        "import torch\n",
        "import torch.nn as nn\n",
        "import torch.nn.functional as F\n",
        "import torchvision.datasets as datasets\n",
        "from torchvision.utils import make_grid\n",
        "import torch.optim as optim\n",
        "from torch.utils.data import DataLoader\n",
        "import matplotlib.pyplot as plt\n",
        "import shutil"
      ],
      "metadata": {
        "id": "bxBNCpm18x-h"
      },
      "execution_count": null,
      "outputs": []
    },
    {
      "cell_type": "code",
      "source": [
        "def show_tensor_images(image_tensor, num_images=10, nrow=5, figsize=(12,12)):\n",
        "    image_clipped = torch.clamp(image_tensor, min=-1.0, max=1.0)\n",
        "    image_shifted = (image_clipped + 1) / 2\n",
        "    image_grid = make_grid(image_shifted[:num_images].detach().cpu(), nrow=nrow)\n",
        "    plt.figure(figsize = figsize)\n",
        "    plt.imshow(image_grid.permute(1, 2, 0).squeeze())\n",
        "    plt.show()"
      ],
      "metadata": {
        "id": "mPBWWANe8z5_"
      },
      "execution_count": null,
      "outputs": []
    },
    {
      "cell_type": "markdown",
      "source": [
        "The model <br>\n",
        "Note: weights for the model are stored in my personal google drive"
      ],
      "metadata": {
        "id": "3dZXbPF1iFIy"
      }
    },
    {
      "cell_type": "code",
      "source": [
        "DATASET                 = '/content/dataset'\n",
        "DEVICE                  = \"cuda\"\n",
        "image_size              = 64\n",
        "CHANNELS_IMG            = 3\n",
        "Z_DIM                   = 512\n",
        "IN_CHANNELS             = 512"
      ],
      "metadata": {
        "id": "CE7PSnOgiG8s"
      },
      "execution_count": null,
      "outputs": []
    },
    {
      "cell_type": "code",
      "source": [
        "class ELConv2d(nn.Module):\n",
        "    def __init__(self, in_channels, out_channels, kernel_size=3, stride=1, padding=1):\n",
        "        super(ELConv2d, self).__init__()\n",
        "        self.weight = nn.Parameter(torch.zeros(out_channels, in_channels, kernel_size, kernel_size))\n",
        "        self.bias = nn.Parameter(torch.zeros(out_channels))\n",
        "        self.stride = stride\n",
        "        self.padding = padding\n",
        "        self.fan_in = in_channels * kernel_size * kernel_size\n",
        "        self.scale = (2 / self.fan_in) ** (0.5)\n",
        "\n",
        "        nn.init.normal_(self.weight)\n",
        "        nn.init.zeros_(self.bias)\n",
        "\n",
        "    def forward(self, x):\n",
        "        return F.conv2d(input=x,\n",
        "                        weight=self.weight * self.scale,\n",
        "                        bias=self.bias,\n",
        "                        stride=self.stride,\n",
        "                        padding=self.padding)\n",
        "\n",
        "class ELConvTranspose2d(nn.Module):\n",
        "    def __init__(self, in_channels, out_channels, kernel_size=4, stride=1, padding=0):\n",
        "        super(ELConvTranspose2d, self).__init__()\n",
        "        self.weight = nn.Parameter(torch.zeros(in_channels, out_channels, kernel_size, kernel_size))\n",
        "        self.bias = nn.Parameter(torch.zeros(out_channels))\n",
        "        self.stride = stride\n",
        "        self.padding = padding\n",
        "        self.fan_in = in_channels\n",
        "        self.scale = (2 / self.fan_in) ** (0.5)\n",
        "\n",
        "        nn.init.normal_(self.weight)\n",
        "        nn.init.zeros_(self.bias)\n",
        "\n",
        "    def forward(self, x):\n",
        "        return F.conv_transpose2d(input=x,\n",
        "                                  weight=self.weight * self.scale,\n",
        "                                  bias=self.bias,\n",
        "                                  stride=self.stride,\n",
        "                                  padding=self.padding)\n",
        "\n",
        "class ELLinear(nn.Module):\n",
        "    def __init__(self, in_channels, out_channels):\n",
        "        super(ELLinear, self).__init__()\n",
        "        self.weight = nn.Parameter(torch.zeros(out_channels, in_channels))\n",
        "        self.bias = nn.Parameter(torch.zeros(out_channels))\n",
        "        self.fan_in = in_channels\n",
        "        self.scale = (2 / self.fan_in) ** (0.5)\n",
        "\n",
        "    def forward(self, x):\n",
        "        return F.linear(input=x,\n",
        "                        weight=self.weight * self.scale,\n",
        "                        bias=self.bias)\n",
        "\n",
        "class PixelNorm(nn.Module):\n",
        "    def __init__(self):\n",
        "        super(PixelNorm, self).__init__()\n",
        "        self.epsilon = 1e-8\n",
        "\n",
        "    def forward(self, x):\n",
        "        return x / torch.sqrt(torch.mean(x ** 2, dim=1, keepdim=True) + self.epsilon)\n",
        "\n",
        "class MiniBatchSTD(nn.Module):\n",
        "    def __init__(self):\n",
        "        super(MiniBatchSTD, self).__init__()\n",
        "        self.alpha = 1e-8\n",
        "\n",
        "    def forward(self, x):\n",
        "        batch_size, _, height, width = x.shape\n",
        "        y = x - x.mean(dim=0, keepdim=True)\n",
        "        y = torch.sqrt(y.pow(2).mean(dim=0, keepdim=False) + self.alpha)\n",
        "        y = y.mean()\n",
        "        y = y.repeat(batch_size, 1, height, width)\n",
        "        y = torch.cat([x, y], 1)\n",
        "        return y\n",
        "\n",
        "class ConvBlock(nn.Module):\n",
        "    def __init__(self, in_channels, out_channels, use_pixelnorm=True):\n",
        "        super(ConvBlock, self).__init__()\n",
        "        self.use_pn = use_pixelnorm\n",
        "        self.conv1 = ELConv2d(in_channels, out_channels)\n",
        "        self.conv2 = ELConv2d(out_channels, out_channels)\n",
        "        self.leaky = nn.LeakyReLU(0.2)\n",
        "        self.pn = PixelNorm()\n",
        "\n",
        "    def forward(self, x):\n",
        "        x = self.leaky(self.conv1(x))\n",
        "        x = self.pn(x) if self.use_pn else x\n",
        "        x = self.leaky(self.conv2(x))\n",
        "        x = self.pn(x) if self.use_pn else x\n",
        "        return x"
      ],
      "metadata": {
        "id": "wPzFw-fgiG6K"
      },
      "execution_count": null,
      "outputs": []
    },
    {
      "cell_type": "code",
      "source": [
        "class Generator(nn.Module):\n",
        "    def __init__(self, z_dim, in_channels, img_channels=3):\n",
        "        super(Generator, self).__init__()\n",
        "\n",
        "        self.initial_block = nn.Sequential(\n",
        "            PixelNorm(),\n",
        "            ELLinear(z_dim, in_channels * 4 * 4),\n",
        "            nn.Unflatten(1, (in_channels, 4, 4)),\n",
        "            nn.LeakyReLU(0.2),\n",
        "            PixelNorm(),\n",
        "            ELConv2d(in_channels, in_channels, kernel_size=3, stride=1, padding=1),\n",
        "            nn.LeakyReLU(0.2),\n",
        "            PixelNorm(),\n",
        "        )  # 4\n",
        "\n",
        "        self.prog_blocks = nn.ModuleList([\n",
        "            ConvBlock(in_channels, in_channels),              # 8\n",
        "            ConvBlock(in_channels, in_channels),              # 16\n",
        "            ConvBlock(in_channels, in_channels),              # 32\n",
        "            ConvBlock(in_channels, in_channels // 2),         # 64\n",
        "            # ConvBlock(in_channels // 2, in_channels // 4),    # 128\n",
        "        ])\n",
        "\n",
        "        self.to_rgb_layers = nn.ModuleList([\n",
        "            ELConv2d(in_channels, img_channels, kernel_size=1, stride=1, padding=0),        # 4\n",
        "            ELConv2d(in_channels, img_channels, kernel_size=1, stride=1, padding=0),        # 8\n",
        "            ELConv2d(in_channels, img_channels, kernel_size=1, stride=1, padding=0),        # 16\n",
        "            ELConv2d(in_channels, img_channels, kernel_size=1, stride=1, padding=0),        # 32\n",
        "            ELConv2d(in_channels // 2, img_channels, kernel_size=1, stride=1, padding=0),   # 64\n",
        "            # ELConv2d(in_channels // 4, img_channels, kernel_size=1, stride=1, padding=0),   # 128\n",
        "        ])\n",
        "\n",
        "    def forward(self, x, alpha, steps):\n",
        "        assert alpha >= 0 and alpha <= 1, \"Value of alpha out of range\"\n",
        "\n",
        "        out = self.initial_block(x)\n",
        "\n",
        "        if steps == 0:\n",
        "            return self.to_rgb_layers[0](out)\n",
        "\n",
        "        for step in range(steps):\n",
        "            upscaled = F.interpolate(out, scale_factor=2, mode=\"nearest\")\n",
        "            out = self.prog_blocks[step](upscaled)\n",
        "\n",
        "        if alpha < 1:\n",
        "            final_upscaled = self.to_rgb_layers[steps - 1](upscaled)\n",
        "            final_out = self.to_rgb_layers[steps](out)\n",
        "            return alpha * final_out + (1 - alpha) * final_upscaled\n",
        "        else:\n",
        "            final_out = self.to_rgb_layers[steps](out)\n",
        "            return final_out"
      ],
      "metadata": {
        "id": "yhQDePS5iG4B"
      },
      "execution_count": null,
      "outputs": []
    },
    {
      "cell_type": "markdown",
      "source": [
        "Function for generating a batch of images"
      ],
      "metadata": {
        "id": "rbdrXC7LVCvq"
      }
    },
    {
      "cell_type": "code",
      "source": [
        "def generate_by_batch(gen_ema, alpha, steps, batch_size=100, n=200, name='name'):\n",
        "    gen_ema.eval()\n",
        "    for i in tqdm(range(n//batch_size)):\n",
        "        with torch.no_grad():\n",
        "            noise = torch.randn(batch_size, Z_DIM).to(DEVICE)\n",
        "            img = gen_ema(noise, alpha, steps)\n",
        "            img = torch.clamp(img, min=-1.0, max=1.0)\n",
        "            if not os.path.exists(name + '_generated'):\n",
        "                os.makedirs(name + '_generated')\n",
        "            for j in range(batch_size):\n",
        "                save_image(img[j,:,:,:]*0.5+0.5, name + \"_generated/img_{}_{}.png\".format(i,j))"
      ],
      "metadata": {
        "id": "4mh8YNp7iGy8"
      },
      "execution_count": null,
      "outputs": []
    },
    {
      "cell_type": "markdown",
      "source": [
        "Load weights for the model that generates Liu Gongquan style images"
      ],
      "metadata": {
        "id": "KCc-KpCBfjHn"
      }
    },
    {
      "cell_type": "code",
      "source": [
        "gen_ema = Generator(Z_DIM, IN_CHANNELS, img_channels=CHANNELS_IMG).to(DEVICE)\n",
        "loaded_state = torch.load('drive/MyDrive/Caligraphy/Liu_Gongquan_style_weights.pt')\n",
        "gen_ema.load_state_dict(loaded_state[\"gen_ema\"]);"
      ],
      "metadata": {
        "id": "QKHNOFyeibZ_"
      },
      "execution_count": null,
      "outputs": []
    },
    {
      "cell_type": "code",
      "source": [
        "gen_ema.eval();"
      ],
      "metadata": {
        "id": "bkCt4oFGibVY"
      },
      "execution_count": null,
      "outputs": []
    },
    {
      "cell_type": "markdown",
      "source": [
        "Generating 50000 Liu Gongquan style images"
      ],
      "metadata": {
        "id": "qb-mSItRinKE"
      }
    },
    {
      "cell_type": "code",
      "source": [
        "print('Generating 50000 Liu Gongquan style images for calculateing FID ...')\n",
        "generate_by_batch(gen_ema, 1, 4, batch_size=100, n=50000, name='liu_gongquan_style')\n",
        "print('Image generation finished')"
      ],
      "metadata": {
        "colab": {
          "base_uri": "https://localhost:8080/",
          "height": 84,
          "referenced_widgets": [
            "13e4a34088a24a5eb36ca23b16f6daa7",
            "6a1d340bed1a435aa71b3ea34cdb8877",
            "40224c6f872142b3aa5dc33e281cf614",
            "7a835bd4d33846e6ab40b6d36f59f8ec",
            "ce0301f38d814bbf95dc618431dbdd79",
            "e99728de538a453e8f2177005fab3530",
            "b01071d0d8fc47f7a83c55f882c726dc",
            "165881c3b29f4db6bdc4a66bd203647b",
            "fc9c9623e40f43a597e3879f05e25cff",
            "4380a2acfc0a4889ab381e2af6bbc7ca",
            "88aadc70e6914430864a49884569be88"
          ]
        },
        "id": "1ZI0lq4gibS-",
        "outputId": "6a5582f6-f192-4ce9-8104-5999cc64725d"
      },
      "execution_count": null,
      "outputs": [
        {
          "output_type": "stream",
          "name": "stdout",
          "text": [
            "Generating 50000 Liu Gongquan style images for calculateing FID ...\n"
          ]
        },
        {
          "output_type": "display_data",
          "data": {
            "text/plain": [
              "  0%|          | 0/500 [00:00<?, ?it/s]"
            ],
            "application/vnd.jupyter.widget-view+json": {
              "version_major": 2,
              "version_minor": 0,
              "model_id": "13e4a34088a24a5eb36ca23b16f6daa7"
            }
          },
          "metadata": {}
        },
        {
          "output_type": "stream",
          "name": "stdout",
          "text": [
            "Image generation finished\n"
          ]
        }
      ]
    },
    {
      "cell_type": "markdown",
      "source": [
        "Calculate FID for the generated Liu Gongquan style images against the training data"
      ],
      "metadata": {
        "id": "4nPjKqH6L8aU"
      }
    },
    {
      "cell_type": "code",
      "source": [
        "! python -m pytorch_fid 'dataset_liu_gongquan' 'liu_gongquan_style_generated'"
      ],
      "metadata": {
        "colab": {
          "base_uri": "https://localhost:8080/"
        },
        "id": "fIz2xZ0aisMj",
        "outputId": "87debaec-a891-48c9-9f37-49af4eb0626f"
      },
      "execution_count": null,
      "outputs": [
        {
          "output_type": "stream",
          "name": "stdout",
          "text": [
            "Downloading: \"https://github.com/mseitzer/pytorch-fid/releases/download/fid_weights/pt_inception-2015-12-05-6726825d.pth\" to /root/.cache/torch/hub/checkpoints/pt_inception-2015-12-05-6726825d.pth\n",
            "100% 91.2M/91.2M [00:05<00:00, 16.6MB/s]\n",
            "100% 136/136 [00:25<00:00,  5.31it/s]\n",
            "100% 1000/1000 [03:10<00:00,  5.26it/s]\n",
            "FID:  8.607782680691628\n"
          ]
        }
      ]
    },
    {
      "cell_type": "markdown",
      "source": [
        "Load weights for the model that generates Mi Fu style images"
      ],
      "metadata": {
        "id": "NIPHgEMxiwbZ"
      }
    },
    {
      "cell_type": "code",
      "source": [
        "gen_ema = Generator(Z_DIM, IN_CHANNELS, img_channels=CHANNELS_IMG).to(DEVICE)\n",
        "loaded_state = torch.load('drive/MyDrive/Caligraphy/Mi_Fu_style_weights.pt')\n",
        "gen_ema.load_state_dict(loaded_state[\"gen_ema\"]);"
      ],
      "metadata": {
        "id": "DsL27Of7OYjQ"
      },
      "execution_count": null,
      "outputs": []
    },
    {
      "cell_type": "markdown",
      "source": [
        "Generating 50000 Mi Fu style images"
      ],
      "metadata": {
        "id": "dTUBzMy7USTv"
      }
    },
    {
      "cell_type": "code",
      "source": [
        "print('Generating 50000 Mi Fu style images for calculateing FID ...')\n",
        "generate_by_batch(gen_ema, 1, 4, batch_size=100, n=50000, name='mi_fu_style')\n",
        "print('Image generation finished')"
      ],
      "metadata": {
        "colab": {
          "base_uri": "https://localhost:8080/",
          "height": 84,
          "referenced_widgets": [
            "1c929592ee034c709db1998d95cdbb37",
            "bd4bee1b516e47f98f406fb89742feba",
            "016119c10f634050a11e25f5278fa40f",
            "086e7028784e4f28a7e00ed1343a6348",
            "8a0840903cf14897b2e2658f0ae31000",
            "2ffedb64f2b04876b6ac695d1c1c41ba",
            "6f5cc83315074f30a9680d7016eab346",
            "5882f3dfba144b7aa77454695b27d120",
            "af3a608da4214c0da55a1824bd4b2551",
            "d2d62f2e552c482b9eeea42ba1121fda",
            "b16f372c81d349dfaa98e2aedb3afc0c"
          ]
        },
        "id": "794Fu4mpisKa",
        "outputId": "f3af71c8-0128-4c0f-8d26-1fad61ff9345"
      },
      "execution_count": null,
      "outputs": [
        {
          "output_type": "stream",
          "name": "stdout",
          "text": [
            "Generating 50000 Mi Fu style images for calculateing FID ...\n"
          ]
        },
        {
          "output_type": "display_data",
          "data": {
            "text/plain": [
              "  0%|          | 0/500 [00:00<?, ?it/s]"
            ],
            "application/vnd.jupyter.widget-view+json": {
              "version_major": 2,
              "version_minor": 0,
              "model_id": "1c929592ee034c709db1998d95cdbb37"
            }
          },
          "metadata": {}
        },
        {
          "output_type": "stream",
          "name": "stdout",
          "text": [
            "Image generation finished\n"
          ]
        }
      ]
    },
    {
      "cell_type": "markdown",
      "source": [
        "Calculate FID for the generated Mi Fu style images against the training data"
      ],
      "metadata": {
        "id": "-lT4HgXRSi_h"
      }
    },
    {
      "cell_type": "code",
      "source": [
        "! python -m pytorch_fid 'dataset_mi_fu' 'mi_fu_style_generated'"
      ],
      "metadata": {
        "colab": {
          "base_uri": "https://localhost:8080/"
        },
        "id": "F5WrBY3EisIT",
        "outputId": "9a0f3996-0f90-490a-8b60-dcc505d10775"
      },
      "execution_count": null,
      "outputs": [
        {
          "output_type": "stream",
          "name": "stdout",
          "text": [
            "100% 136/136 [00:25<00:00,  5.26it/s]\n",
            "100% 1000/1000 [03:12<00:00,  5.20it/s]\n",
            "FID:  11.888844291941695\n"
          ]
        }
      ]
    }
  ]
}