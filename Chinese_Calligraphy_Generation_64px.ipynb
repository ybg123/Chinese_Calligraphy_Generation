{
  "cells": [
    {
      "cell_type": "markdown",
      "source": [
        "# Chinese Calligraphy Generation"
      ],
      "metadata": {
        "id": "9mBvyG8UDMRI"
      }
    },
    {
      "cell_type": "markdown",
      "source": [
        "References"
      ],
      "metadata": {
        "id": "61kc7mbXEakD"
      }
    },
    {
      "cell_type": "markdown",
      "source": [
        "[1] Tero Karras, Timo Aila, Samuli Laine, and Jaakko Lehtinen. Progressive Growing of GANs for Improved Quality, Stability, and Variation. https://arxiv.org/abs/1710.10196 <br>\n",
        "[2] Lars Mescheder, Andreas Geiger, and Sebastian Nowozin. Which Training Methods for GANs do actually Converge? https://arxiv.org/abs/1801.04406 <br>\n",
        "[3] Shengyu Zhao, Zhijian Liu, Ji Lin, Jun-Yan Zhu. and Song Han. Differentiable Augmentation for Data-Efficient GAN Training. https://arxiv.org/abs/2006.10738 <br>\n",
        "[4] Github repository: https://github.com/aladdinpersson/Machine-Learning-Collection/tree/master/ML/Pytorch/GANs/ProGAN <br>\n",
        "[5] Github repository: https://github.com/GaParmar/clean-fid <br>\n",
        "[6] Github repository: https://github.com/mit-han-lab/data-efficient-gans <br>\n",
        "[7] Kaggle dataset: https://www.kaggle.com/datasets/yuanhaowang486/chinese-calligraphy-styles-by-calligraphers <br>\n",
        "[8] Kaggle notebook: https://www.kaggle.com/code/theoviel/conditional-progan-30-public <br>"
      ],
      "metadata": {
        "id": "rspz3iqHDpkY"
      }
    },
    {
      "cell_type": "code",
      "execution_count": 28,
      "metadata": {
        "id": "OgrYTjQQVVi6"
      },
      "outputs": [],
      "source": [
        "from math import log2\n",
        "import random\n",
        "import numpy as np\n",
        "import os\n",
        "import torch\n",
        "import torch.nn as nn\n",
        "import torch.nn.functional as F\n",
        "from torchvision.utils import save_image\n",
        "import torchvision.datasets as datasets\n",
        "import torchvision.transforms as transforms\n",
        "from torchvision.utils import make_grid\n",
        "import torch.optim as optim\n",
        "from torch.utils.data import DataLoader\n",
        "from PIL import Image\n",
        "from tqdm.auto import tqdm\n",
        "import matplotlib.pyplot as plt\n",
        "import shutil\n",
        "import pandas as pd"
      ]
    },
    {
      "cell_type": "markdown",
      "source": [
        "*   Dataset from kaggle [7]\n",
        "*   Each calligrapher's writings in the dataset are separated into two folders, 'train' and 'test'\n",
        "*   For training, combine images in both 'train' and 'test' into one folder, 'dataset'\n",
        "*   Specific codes omitted"
      ],
      "metadata": {
        "id": "KT3gYX2yFEPW"
      }
    },
    {
      "cell_type": "code",
      "source": [
        "print(\"Number of training images: {}\".format(len(os.listdir('/content/dataset'))))"
      ],
      "metadata": {
        "colab": {
          "base_uri": "https://localhost:8080/"
        },
        "id": "vEffbuI74fLi",
        "outputId": "5bdbe135-7b59-4409-b57a-635d8e2e67bf"
      },
      "execution_count": 35,
      "outputs": [
        {
          "output_type": "stream",
          "name": "stdout",
          "text": [
            "Number of training images: 6763\n"
          ]
        }
      ]
    },
    {
      "cell_type": "code",
      "execution_count": 12,
      "metadata": {
        "id": "mwdSEw9sVcw5"
      },
      "outputs": [],
      "source": [
        "DATASET                 = '/content/dataset'\n",
        "START_TRAIN_AT_IMG_SIZE = 4\n",
        "DEVICE                  = \"cuda\"\n",
        "LEARNING_RATE           = 1e-3\n",
        "BATCH_SIZES             = [16, 16, 16, 16, 16]\n",
        "image_size              = 64\n",
        "CHANNELS_IMG            = 3\n",
        "Z_DIM                   = 512\n",
        "IN_CHANNELS             = 512\n",
        "PROGRESSIVE_GAMMAS      = [10, 10, 10, 20, 80]        # Use larger gamma for higher resolution\n",
        "PROGRESSIVE_EPOCHS      = [60, 120, 120, 180, 240]"
      ]
    },
    {
      "cell_type": "code",
      "execution_count": 13,
      "metadata": {
        "id": "pdrgIzjaVjwv"
      },
      "outputs": [],
      "source": [
        "class CaligraphyDataset(torch.utils.data.Dataset):\n",
        "    def __init__(self, transform):\n",
        "        def get_images():\n",
        "            images = [x for x in os.listdir('dataset') if x.lower().endswith('jpg')]\n",
        "            return images\n",
        "\n",
        "        self.images = get_images()\n",
        "        self.transform = transform\n",
        "\n",
        "\n",
        "    def __len__(self):\n",
        "        return len(self.images)\n",
        "\n",
        "\n",
        "    def __getitem__(self, index):\n",
        "        image_name = self.images[index]\n",
        "        image_path = os.path.join('dataset', image_name)\n",
        "        image = Image.open(image_path)\n",
        "        return self.transform(image)"
      ]
    },
    {
      "cell_type": "code",
      "execution_count": 15,
      "metadata": {
        "id": "PMqmXcjzWeRS"
      },
      "outputs": [],
      "source": [
        "# Random horizontal flip is not a valid data augmentation due to the special property of Chinese characters\n",
        "def get_loader(image_size):\n",
        "    transform = transforms.Compose(\n",
        "        [\n",
        "            transforms.Resize((image_size, image_size)),\n",
        "            transforms.ToTensor(),\n",
        "            transforms.Normalize((0.5, 0.5, 0.5), (0.5, 0.5, 0.5)),\n",
        "        ]\n",
        "    )\n",
        "    batch_size = BATCH_SIZES[int(log2(image_size / 4))]\n",
        "    dataset = CaligraphyDataset(transform)\n",
        "    loader = DataLoader(\n",
        "        dataset,\n",
        "        batch_size=batch_size,\n",
        "        shuffle=True,\n",
        "    )\n",
        "    return loader, dataset"
      ]
    },
    {
      "cell_type": "markdown",
      "source": [
        "Custom layers [1, 4, 8]"
      ],
      "metadata": {
        "id": "pu_Wo97k20-U"
      }
    },
    {
      "cell_type": "code",
      "execution_count": 16,
      "metadata": {
        "id": "fzv22QqbdOtf"
      },
      "outputs": [],
      "source": [
        "class ELConv2d(nn.Module):\n",
        "    def __init__(self, in_channels, out_channels, kernel_size=3, stride=1, padding=1):\n",
        "        super(ELConv2d, self).__init__()\n",
        "        self.weight = nn.Parameter(torch.zeros(out_channels, in_channels, kernel_size, kernel_size))\n",
        "        self.bias = nn.Parameter(torch.zeros(out_channels))\n",
        "        self.stride = stride\n",
        "        self.padding = padding\n",
        "        self.fan_in = in_channels * kernel_size * kernel_size\n",
        "        self.scale = (2 / self.fan_in) ** (0.5)\n",
        "\n",
        "        nn.init.normal_(self.weight)\n",
        "        nn.init.zeros_(self.bias)\n",
        "\n",
        "    def forward(self, x):\n",
        "        return F.conv2d(input=x,\n",
        "                        weight=self.weight * self.scale,\n",
        "                        bias=self.bias,\n",
        "                        stride=self.stride,\n",
        "                        padding=self.padding)\n",
        "\n",
        "class ELConvTranspose2d(nn.Module):\n",
        "    def __init__(self, in_channels, out_channels, kernel_size=4, stride=1, padding=0):\n",
        "        super(ELConvTranspose2d, self).__init__()\n",
        "        self.weight = nn.Parameter(torch.zeros(in_channels, out_channels, kernel_size, kernel_size))\n",
        "        self.bias = nn.Parameter(torch.zeros(out_channels))\n",
        "        self.stride = stride\n",
        "        self.padding = padding\n",
        "        self.fan_in = in_channels\n",
        "        self.scale = (2 / self.fan_in) ** (0.5)\n",
        "\n",
        "        nn.init.normal_(self.weight)\n",
        "        nn.init.zeros_(self.bias)\n",
        "\n",
        "    def forward(self, x):\n",
        "        return F.conv_transpose2d(input=x,\n",
        "                                  weight=self.weight * self.scale,\n",
        "                                  bias=self.bias,\n",
        "                                  stride=self.stride,\n",
        "                                  padding=self.padding)\n",
        "\n",
        "class ELLinear(nn.Module):\n",
        "    def __init__(self, in_channels, out_channels):\n",
        "        super(ELLinear, self).__init__()\n",
        "        self.weight = nn.Parameter(torch.zeros(out_channels, in_channels))\n",
        "        self.bias = nn.Parameter(torch.zeros(out_channels))\n",
        "        self.fan_in = in_channels\n",
        "        self.scale = (2 / self.fan_in) ** (0.5)\n",
        "\n",
        "    def forward(self, x):\n",
        "        return F.linear(input=x,\n",
        "                        weight=self.weight * self.scale,\n",
        "                        bias=self.bias)\n",
        "\n",
        "class PixelNorm(nn.Module):\n",
        "    def __init__(self):\n",
        "        super(PixelNorm, self).__init__()\n",
        "        self.epsilon = 1e-8\n",
        "\n",
        "    def forward(self, x):\n",
        "        return x / torch.sqrt(torch.mean(x ** 2, dim=1, keepdim=True) + self.epsilon)\n",
        "\n",
        "class MiniBatchSTD(nn.Module):\n",
        "    def __init__(self):\n",
        "        super(MiniBatchSTD, self).__init__()\n",
        "        self.alpha = 1e-8\n",
        "\n",
        "    def forward(self, x):\n",
        "        batch_size, _, height, width = x.shape\n",
        "        y = x - x.mean(dim=0, keepdim=True)\n",
        "        y = torch.sqrt(y.pow(2).mean(dim=0, keepdim=False) + self.alpha)\n",
        "        y = y.mean()\n",
        "        y = y.repeat(batch_size, 1, height, width)\n",
        "        y = torch.cat([x, y], 1)\n",
        "        return y\n",
        "\n",
        "class ConvBlock(nn.Module):\n",
        "    def __init__(self, in_channels, out_channels, use_pixelnorm=True):\n",
        "        super(ConvBlock, self).__init__()\n",
        "        self.use_pn = use_pixelnorm\n",
        "        self.conv1 = ELConv2d(in_channels, out_channels)\n",
        "        self.conv2 = ELConv2d(out_channels, out_channels)\n",
        "        self.leaky = nn.LeakyReLU(0.2)\n",
        "        self.pn = PixelNorm()\n",
        "\n",
        "    def forward(self, x):\n",
        "        x = self.leaky(self.conv1(x))\n",
        "        x = self.pn(x) if self.use_pn else x\n",
        "        x = self.leaky(self.conv2(x))\n",
        "        x = self.pn(x) if self.use_pn else x\n",
        "        return x"
      ]
    },
    {
      "cell_type": "markdown",
      "source": [
        "Progressive generator [1, 4, 8]"
      ],
      "metadata": {
        "id": "xfWyBNTT243F"
      }
    },
    {
      "cell_type": "code",
      "execution_count": 17,
      "metadata": {
        "id": "xl7fscwuIdzt"
      },
      "outputs": [],
      "source": [
        "class Generator(nn.Module):\n",
        "    def __init__(self, z_dim, in_channels, img_channels=3):\n",
        "        super(Generator, self).__init__()\n",
        "\n",
        "        self.initial_block = nn.Sequential(\n",
        "            PixelNorm(),\n",
        "            ELLinear(z_dim, in_channels * 4 * 4),\n",
        "            nn.Unflatten(1, (in_channels, 4, 4)),\n",
        "            nn.LeakyReLU(0.2),\n",
        "            PixelNorm(),\n",
        "            ELConv2d(in_channels, in_channels, kernel_size=3, stride=1, padding=1),\n",
        "            nn.LeakyReLU(0.2),\n",
        "            PixelNorm(),\n",
        "        )  # 4\n",
        "\n",
        "        self.prog_blocks = nn.ModuleList([\n",
        "            ConvBlock(in_channels, in_channels),              # 8\n",
        "            ConvBlock(in_channels, in_channels),              # 16\n",
        "            ConvBlock(in_channels, in_channels),              # 32\n",
        "            ConvBlock(in_channels, in_channels // 2),         # 64\n",
        "        ])\n",
        "\n",
        "        self.to_rgb_layers = nn.ModuleList([\n",
        "            ELConv2d(in_channels, img_channels, kernel_size=1, stride=1, padding=0),        # 4\n",
        "            ELConv2d(in_channels, img_channels, kernel_size=1, stride=1, padding=0),        # 8\n",
        "            ELConv2d(in_channels, img_channels, kernel_size=1, stride=1, padding=0),        # 16\n",
        "            ELConv2d(in_channels, img_channels, kernel_size=1, stride=1, padding=0),        # 32\n",
        "            ELConv2d(in_channels // 2, img_channels, kernel_size=1, stride=1, padding=0),   # 64\n",
        "        ])\n",
        "\n",
        "    def forward(self, x, alpha, steps):\n",
        "        assert alpha >= 0 and alpha <= 1, \"Value of alpha out of range\"\n",
        "\n",
        "        out = self.initial_block(x)\n",
        "\n",
        "        if steps == 0:\n",
        "            return self.to_rgb_layers[0](out)\n",
        "\n",
        "        for step in range(steps):\n",
        "            upscaled = F.interpolate(out, scale_factor=2, mode=\"nearest\")\n",
        "            out = self.prog_blocks[step](upscaled)\n",
        "\n",
        "        if alpha < 1:\n",
        "            final_upscaled = self.to_rgb_layers[steps - 1](upscaled)\n",
        "            final_out = self.to_rgb_layers[steps](out)\n",
        "            return alpha * final_out + (1 - alpha) * final_upscaled\n",
        "        else:\n",
        "            final_out = self.to_rgb_layers[steps](out)\n",
        "            return final_out"
      ]
    },
    {
      "cell_type": "markdown",
      "source": [
        "Progressive discriminator [1, 4, 8]"
      ],
      "metadata": {
        "id": "NjG0MeXC3A9u"
      }
    },
    {
      "cell_type": "code",
      "execution_count": 18,
      "metadata": {
        "id": "FfUZgL__Idu0"
      },
      "outputs": [],
      "source": [
        "class Discriminator(nn.Module):\n",
        "    def __init__(self, in_channels, img_channels=3):\n",
        "        super(Discriminator, self).__init__()\n",
        "        self.from_rgb_layers = nn.ModuleList([\n",
        "            ELConv2d(img_channels, in_channels // 2, kernel_size=1, stride=1, padding=0),   # 64\n",
        "            ELConv2d(img_channels, in_channels, kernel_size=1, stride=1, padding=0),        # 32\n",
        "            ELConv2d(img_channels, in_channels, kernel_size=1, stride=1, padding=0),        # 16\n",
        "            ELConv2d(img_channels, in_channels, kernel_size=1, stride=1, padding=0),        # 8\n",
        "            ELConv2d(img_channels, in_channels, kernel_size=1, stride=1, padding=0),        # 4\n",
        "        ])\n",
        "\n",
        "        self.prog_blocks = nn.ModuleList([\n",
        "            ConvBlock(in_channels // 2, in_channels, use_pixelnorm=False),  # 64\n",
        "            ConvBlock(in_channels, in_channels, use_pixelnorm=False),  # 32\n",
        "            ConvBlock(in_channels, in_channels, use_pixelnorm=False),  # 16\n",
        "            ConvBlock(in_channels, in_channels, use_pixelnorm=False),  # 8\n",
        "        ])\n",
        "\n",
        "        self.final_block = nn.Sequential(\n",
        "            ELConv2d(in_channels + 1, in_channels, kernel_size=3, padding=1),\n",
        "            nn.LeakyReLU(0.2),\n",
        "            ELConv2d(in_channels, in_channels, kernel_size=4, padding=0, stride=1),\n",
        "            nn.LeakyReLU(0.2),\n",
        "            nn.Flatten(),\n",
        "            ELLinear(in_channels, 1)  # 4\n",
        "        )\n",
        "\n",
        "        self.minibatch_std = MiniBatchSTD()\n",
        "        self.leaky = nn.LeakyReLU(0.2)\n",
        "        self.avg_pool = nn.AvgPool2d(kernel_size=2, stride=2)\n",
        "\n",
        "    def forward(self, x, alpha, steps):\n",
        "        assert alpha >= 0 and alpha <= 1, \"Value of alpha out of range\"\n",
        "\n",
        "        cur_step = len(self.prog_blocks) - steps\n",
        "        out = self.leaky(self.from_rgb_layers[cur_step](x))\n",
        "\n",
        "        if steps == 0:\n",
        "            out = self.minibatch_std(out)\n",
        "            return self.final_block(out)\n",
        "\n",
        "        if alpha < 1:\n",
        "            downscaled = self.leaky(self.from_rgb_layers[cur_step + 1](self.avg_pool(x)))\n",
        "            out = self.avg_pool(self.prog_blocks[cur_step](out))\n",
        "            out = alpha * out + (1 - alpha) * downscaled\n",
        "        else:\n",
        "            out = self.avg_pool(self.prog_blocks[cur_step](out))\n",
        "\n",
        "        for step in range(cur_step + 1, len(self.prog_blocks)):\n",
        "            out = self.prog_blocks[step](out)\n",
        "            out = self.avg_pool(out)\n",
        "\n",
        "        out = self.minibatch_std(out)\n",
        "        return self.final_block(out)"
      ]
    },
    {
      "cell_type": "markdown",
      "source": [
        "Zero-centered gradient penalty only on real images [2] <br>\n",
        "*   Part of the non-saturating GAN loss with R1 regularization"
      ],
      "metadata": {
        "id": "H0DepWTy3pK0"
      }
    },
    {
      "cell_type": "code",
      "execution_count": 19,
      "metadata": {
        "id": "007a2_-8QyaK"
      },
      "outputs": [],
      "source": [
        "def gradient_penalty(disc, real, alpha, train_step, device=\"cpu\"):\n",
        "    BATCH_SIZE, C, H, W = real.shape\n",
        "    real.requires_grad_(True)\n",
        "\n",
        "    real_scores = disc(real, alpha, train_step)\n",
        "\n",
        "    gradient = torch.autograd.grad(\n",
        "        inputs=real,\n",
        "        outputs=real_scores,\n",
        "        grad_outputs=torch.ones_like(real_scores),\n",
        "        create_graph=True,\n",
        "    )[0]\n",
        "    gradient = gradient.view(gradient.shape[0], -1)\n",
        "    gradient_norm = gradient.norm(2, dim=1)\n",
        "    gradient_penalty = torch.mean(gradient_norm ** 2)\n",
        "    return gradient_penalty"
      ]
    },
    {
      "cell_type": "markdown",
      "source": [
        "Exponential moving average (EMA) with a ramp up. Compared with not having it, EMA is able to\n",
        "\n",
        "\n",
        "*   Generate smoother images\n",
        "*   Train longer and eventaully achieve better FID\n",
        "\n"
      ],
      "metadata": {
        "id": "HmtxNfQG5KX6"
      }
    },
    {
      "cell_type": "code",
      "execution_count": 20,
      "metadata": {
        "id": "xxsw7oOmI7tr"
      },
      "outputs": [],
      "source": [
        "class EMA:\n",
        "    def __init__(self, decay=0.999, progressive=True):\n",
        "        assert decay > 0 and decay < 1, \"Value of decay out of range\"\n",
        "        self.decay = decay\n",
        "        self.num_updates = 0 if progressive else None\n",
        "\n",
        "    def initialize(self, model):\n",
        "        model.eval()\n",
        "        for p in model.parameters():\n",
        "            p.requires_grad = False\n",
        "\n",
        "    def copy(self, model_ema, model_tgt):\n",
        "        ema = dict(model_ema.named_parameters())\n",
        "        tgt = dict(model_tgt.named_parameters())\n",
        "\n",
        "        with torch.no_grad():\n",
        "            for p_ema, p_tgt in zip(ema.values(), tgt.values()):\n",
        "                p_ema.copy_(p_tgt)\n",
        "\n",
        "    def update(self, model_ema, model_tgt):\n",
        "        decay = self.decay\n",
        "        if self.num_updates is not None:\n",
        "            decay = min(decay, (1 + self.num_updates) / (10 + self.num_updates))\n",
        "            self.num_updates += 1\n",
        "\n",
        "        ema = dict(model_ema.named_parameters())\n",
        "        tgt = dict(model_tgt.named_parameters())\n",
        "\n",
        "        with torch.no_grad():\n",
        "            for p_ema, p_tgt in zip(ema.values(), tgt.values()):\n",
        "                p_ema.mul_(decay).add_(p_tgt, alpha=1-decay)\n",
        "\n",
        "    def reset(self, num_updates=0):\n",
        "        if self.num_updates is not None:\n",
        "            self.num_updates = num_updates"
      ]
    },
    {
      "cell_type": "markdown",
      "source": [
        "Differentiable augmentation [3, 6]\n",
        "  \n",
        "*   Important due to the lack of data coming from <br>\n",
        "     1. Insufficient number of training images (only 6763 images)\n",
        "     2. Limited ways for conventional data augmentation (random horizontal flip not valid)\n",
        "\n",
        "*   Without it, the model suffers from mode collapse before even reaching 64px resolution"
      ],
      "metadata": {
        "id": "zmO5KuC05VZA"
      }
    },
    {
      "cell_type": "code",
      "execution_count": 21,
      "metadata": {
        "id": "dWgM2y5f92v9"
      },
      "outputs": [],
      "source": [
        "# Differentiable Augmentation for Data-Efficient GAN Training\n",
        "# Shengyu Zhao, Zhijian Liu, Ji Lin, Jun-Yan Zhu, and Song Han\n",
        "# https://arxiv.org/pdf/2006.10738\n",
        "# https://github.com/mit-han-lab/data-efficient-gans\n",
        "\n",
        "\n",
        "def DiffAugment(x, policy='', channels_first=True):\n",
        "    if policy:\n",
        "        if not channels_first:\n",
        "            x = x.permute(0, 3, 1, 2)\n",
        "        for p in policy.split(','):\n",
        "            for f in AUGMENT_FNS[p]:\n",
        "                x = f(x)\n",
        "        if not channels_first:\n",
        "            x = x.permute(0, 2, 3, 1)\n",
        "        x = x.contiguous()\n",
        "    return x\n",
        "\n",
        "\n",
        "def rand_brightness(x):\n",
        "    x = x + (torch.rand(x.size(0), 1, 1, 1, dtype=x.dtype, device=x.device) - 0.5)\n",
        "    return x\n",
        "\n",
        "\n",
        "def rand_saturation(x):\n",
        "    x_mean = x.mean(dim=1, keepdim=True)\n",
        "    x = (x - x_mean) * (torch.rand(x.size(0), 1, 1, 1, dtype=x.dtype, device=x.device) * 2) + x_mean\n",
        "    return x\n",
        "\n",
        "\n",
        "def rand_contrast(x):\n",
        "    x_mean = x.mean(dim=[1, 2, 3], keepdim=True)\n",
        "    x = (x - x_mean) * (torch.rand(x.size(0), 1, 1, 1, dtype=x.dtype, device=x.device) + 0.5) + x_mean\n",
        "    return x\n",
        "\n",
        "\n",
        "def rand_translation(x, ratio=0.125):\n",
        "    shift_x, shift_y = int(x.size(2) * ratio + 0.5), int(x.size(3) * ratio + 0.5)\n",
        "    translation_x = torch.randint(-shift_x, shift_x + 1, size=[x.size(0), 1, 1], device=x.device)\n",
        "    translation_y = torch.randint(-shift_y, shift_y + 1, size=[x.size(0), 1, 1], device=x.device)\n",
        "\n",
        "    # Add indexing='ij in meshgrid to prevent getting a warning\n",
        "    grid_batch, grid_x, grid_y = torch.meshgrid(\n",
        "        torch.arange(x.size(0), dtype=torch.long, device=x.device),\n",
        "        torch.arange(x.size(2), dtype=torch.long, device=x.device),\n",
        "        torch.arange(x.size(3), dtype=torch.long, device=x.device),\n",
        "        indexing = 'ij'\n",
        "    )\n",
        "\n",
        "    grid_x = torch.clamp(grid_x + translation_x + 1, 0, x.size(2) + 1)\n",
        "    grid_y = torch.clamp(grid_y + translation_y + 1, 0, x.size(3) + 1)\n",
        "    x_pad = F.pad(x, [1, 1, 1, 1, 0, 0, 0, 0])\n",
        "    x = x_pad.permute(0, 2, 3, 1).contiguous()[grid_batch, grid_x, grid_y].permute(0, 3, 1, 2).contiguous()\n",
        "    return x\n",
        "\n",
        "\n",
        "def rand_cutout(x, ratio=0.5):\n",
        "    cutout_size = int(x.size(2) * ratio + 0.5), int(x.size(3) * ratio + 0.5)\n",
        "    offset_x = torch.randint(0, x.size(2) + (1 - cutout_size[0] % 2), size=[x.size(0), 1, 1], device=x.device)\n",
        "    offset_y = torch.randint(0, x.size(3) + (1 - cutout_size[1] % 2), size=[x.size(0), 1, 1], device=x.device)\n",
        "\n",
        "    # Add indexing='ij in meshgrid to prevent getting a warning\n",
        "    grid_batch, grid_x, grid_y = torch.meshgrid(\n",
        "        torch.arange(x.size(0), dtype=torch.long, device=x.device),\n",
        "        torch.arange(cutout_size[0], dtype=torch.long, device=x.device),\n",
        "        torch.arange(cutout_size[1], dtype=torch.long, device=x.device),\n",
        "        indexing = 'ij'\n",
        "    )\n",
        "    grid_x = torch.clamp(grid_x + offset_x - cutout_size[0] // 2, min=0, max=x.size(2) - 1)\n",
        "    grid_y = torch.clamp(grid_y + offset_y - cutout_size[1] // 2, min=0, max=x.size(3) - 1)\n",
        "    mask = torch.ones(x.size(0), x.size(2), x.size(3), dtype=x.dtype, device=x.device)\n",
        "    mask[grid_batch, grid_x, grid_y] = 0\n",
        "    x = x * mask.unsqueeze(1)\n",
        "    return x\n",
        "\n",
        "\n",
        "AUGMENT_FNS = {\n",
        "    'color': [rand_brightness, rand_saturation, rand_contrast],\n",
        "    'translation': [rand_translation],\n",
        "    'cutout': [rand_cutout],\n",
        "}"
      ]
    },
    {
      "cell_type": "markdown",
      "metadata": {
        "id": "vdxEI8zIypCm"
      },
      "source": [
        "Training loop"
      ]
    },
    {
      "cell_type": "code",
      "execution_count": 22,
      "metadata": {
        "id": "EyW7tlbzQB3g"
      },
      "outputs": [],
      "source": [
        "def train_fn(\n",
        "    disc,\n",
        "    gen,\n",
        "    loader,\n",
        "    dataset,\n",
        "    step,\n",
        "    alpha,\n",
        "    disc_opt,\n",
        "    gen_opt,\n",
        "    gen_ema,\n",
        "    ema,\n",
        "    disc_scaler,\n",
        "    gen_scaler,\n",
        "    policy\n",
        "):\n",
        "    loop = tqdm(loader, leave=True)\n",
        "    for real in loop:\n",
        "        with torch.autocast(device_type='cuda', dtype=torch.float16):\n",
        "            real = real.to(DEVICE)\n",
        "            cur_batch_size = real.shape[0]\n",
        "            noise = torch.randn(cur_batch_size, Z_DIM).to(DEVICE)\n",
        "            fake = gen(noise, alpha, step)\n",
        "\n",
        "            real_aug = DiffAugment(real, policy=policy)\n",
        "            fake_aug = DiffAugment(fake, policy=policy)\n",
        "\n",
        "            disc_real = disc(real_aug, alpha, step)\n",
        "            disc_fake = disc(fake_aug.detach(), alpha, step)\n",
        "            real_gp = gradient_penalty(disc, real_aug, alpha, step, device=DEVICE)\n",
        "            r1 = PROGRESSIVE_GAMMAS[step] / 2 * real_gp\n",
        "            disc_loss = r1 + torch.mean(F.softplus(-disc_real)) + torch.mean(F.softplus(disc_fake))\n",
        "\n",
        "        disc_opt.zero_grad()\n",
        "        disc_scaler.scale(disc_loss).backward()\n",
        "        disc_scaler.step(disc_opt)\n",
        "        disc_scaler.update()\n",
        "\n",
        "        with torch.autocast(device_type='cuda', dtype=torch.float16):\n",
        "            gen_fake = disc(fake_aug, alpha, step)\n",
        "            gen_loss = torch.mean(F.softplus(-gen_fake))\n",
        "\n",
        "        gen_opt.zero_grad()\n",
        "        gen_scaler.scale(gen_loss).backward()\n",
        "        gen_scaler.step(gen_opt)\n",
        "        gen_scaler.update()\n",
        "\n",
        "        ema.update(gen_ema, gen)\n",
        "\n",
        "        alpha += cur_batch_size / (\n",
        "            (PROGRESSIVE_EPOCHS[step] * 0.5) * len(dataset)\n",
        "        )\n",
        "        alpha = min(alpha, 1.0)\n",
        "\n",
        "        loop.set_postfix(\n",
        "            r1=r1.item(),\n",
        "            gen_loss=gen_loss.item(),\n",
        "            disc_loss=disc_loss.item(),\n",
        "            alpha = alpha\n",
        "        )\n",
        "    return alpha, gen_loss.item(), disc_loss.item(), gen, gen_ema"
      ]
    },
    {
      "cell_type": "code",
      "execution_count": 25,
      "metadata": {
        "id": "T-P656zcQZEw"
      },
      "outputs": [],
      "source": [
        "gen = Generator(Z_DIM, IN_CHANNELS, img_channels=CHANNELS_IMG).to(DEVICE)\n",
        "disc = Discriminator(IN_CHANNELS, img_channels=CHANNELS_IMG).to(DEVICE)\n",
        "\n",
        "gen_opt = optim.Adam(gen.parameters(), lr=LEARNING_RATE, betas=(0, 0.99))\n",
        "disc_opt = optim.Adam(disc.parameters(), lr=LEARNING_RATE, betas=(0, 0.99))\n",
        "\n",
        "gen_ema = Generator(Z_DIM, IN_CHANNELS, img_channels=CHANNELS_IMG).to(DEVICE)\n",
        "\n",
        "ema = EMA(decay=0.999, progressive=True)\n",
        "ema.initialize(gen_ema)\n",
        "\n",
        "gen_scaler = torch.cuda.amp.GradScaler()\n",
        "disc_scaler = torch.cuda.amp.GradScaler()"
      ]
    },
    {
      "cell_type": "code",
      "execution_count": 26,
      "metadata": {
        "id": "g8w422mKArJi"
      },
      "outputs": [],
      "source": [
        "policy = 'color,translation,cutout'"
      ]
    },
    {
      "cell_type": "markdown",
      "source": [
        "Training\n",
        "\n",
        "*   Strating from 4px, resolution increases by a factor of 2 each time\n",
        "*   Finish at 64px, which is the resolution of the training images"
      ],
      "metadata": {
        "id": "5eEqBEl2AsUf"
      }
    },
    {
      "cell_type": "code",
      "execution_count": null,
      "metadata": {
        "id": "H2zfUJDPQZAZ"
      },
      "outputs": [],
      "source": [
        "step = int(log2(START_TRAIN_AT_IMG_SIZE / 4))\n",
        "for num_epochs in PROGRESSIVE_EPOCHS[step:]:\n",
        "    alpha = 1e-5\n",
        "    loader, dataset = get_loader(4 * 2 ** step)\n",
        "    print(f\"Current image size: {4 * 2 ** step}\")\n",
        "    print(f\"Current gamma: {PROGRESSIVE_GAMMAS[step]}\")\n",
        "\n",
        "    for epoch in range(num_epochs):\n",
        "        print(f\"Epoch [{epoch+1}/{num_epochs}]\")\n",
        "        alpha, gen_loss, disc_loss, gen, gen_ema = train_fn(\n",
        "            disc,\n",
        "            gen,\n",
        "            loader,\n",
        "            dataset,\n",
        "            step,\n",
        "            alpha,\n",
        "            disc_opt,\n",
        "            gen_opt,\n",
        "            gen_ema,\n",
        "            ema,\n",
        "            disc_scaler,\n",
        "            gen_scaler,\n",
        "            policy\n",
        "        )\n",
        "    print(\"Step {} finished\".format(step))\n",
        "    step += 1\n",
        "    ema.reset()"
      ]
    },
    {
      "cell_type": "markdown",
      "source": [
        "*   FID scores are monitored per 5 epochs during training using clean-FID [5] with 10000 generated images\n",
        "*   Weights are chosen when clean-FID monitored during training reaches minimum\n",
        "*   For this model, clean-FID is often sligtly larger than the official implementation of FID to Pytorch\n",
        "*   Final FID score is calculated using 50000 generated images, which is slightly smaller than using only 10000 images\n",
        "*   Specific codes omitted"
      ],
      "metadata": {
        "id": "338bZ6qvWtu8"
      }
    },
    {
      "cell_type": "code",
      "source": [
        "# Clean-FID scores monitored during training are saved in my personal google drive\n",
        "df_lgq = pd.read_csv(os.path.join('drive', 'MyDrive', 'Caligraphy', 'FID_Liu_Gongquan_style.csv'))\n",
        "df_mf = pd.read_csv(os.path.join('drive', 'MyDrive', 'Caligraphy', 'FID_Mi_Fu_style.csv'))"
      ],
      "metadata": {
        "id": "ucK6Qi_WwoNY"
      },
      "execution_count": 4,
      "outputs": []
    },
    {
      "cell_type": "code",
      "source": [
        "plt.plot([5*x for x in range(1,49)], df_lgq['FID'], label='Liu Gongquan style')\n",
        "plt.plot([5*x for x in range(1,49)], df_mf['FID'], label='Mi Fu style')\n",
        "plt.title('Clean FID during training')\n",
        "plt.xlabel('Epochs')\n",
        "plt.ylabel('Clean FID')\n",
        "plt.xticks(np.arange(0, 241, 20))\n",
        "plt.yticks(np.arange(0, 41, 5))\n",
        "plt.xlim(0, 240)\n",
        "plt.ylim(0, 40)\n",
        "plt.legend()\n",
        "plt.show()"
      ],
      "metadata": {
        "colab": {
          "base_uri": "https://localhost:8080/",
          "height": 472
        },
        "id": "NvK2ahUPw6MW",
        "outputId": "635280e6-5447-4594-e984-3b01b4393daf"
      },
      "execution_count": 21,
      "outputs": [
        {
          "output_type": "display_data",
          "data": {
            "text/plain": [
              "<Figure size 640x480 with 1 Axes>"
            ],
            "image/png": "[encoded data removed]"
          },
          "metadata": {}
        }
      ]
    }
  ],
  "metadata": {
    "accelerator": "GPU",
    "colab": {
      "machine_shape": "hm",
      "provenance": [],
      "gpuType": "T4",
      "gpuClass": "premium"
    },
    "gpuClass": "premium",
    "kernelspec": {
      "display_name": "Python 3",
      "name": "python3"
    },
    "language_info": {
      "name": "python"
    }
  },
  "nbformat": 4,
  "nbformat_minor": 0
}